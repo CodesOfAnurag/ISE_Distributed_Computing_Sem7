{
 "cells": [
  {
   "cell_type": "code",
   "execution_count": 1,
   "metadata": {},
   "outputs": [],
   "source": [
    "import pandas as pd\n",
    "from sklearn import preprocessing\n",
    "import numpy as np\n",
    "from sklearn.preprocessing import MinMaxScaler\n",
    "import matplotlib.pyplot as plt\n",
    "import seaborn as sns"
   ]
  },
  {
   "cell_type": "markdown",
   "metadata": {},
   "source": [
    "# Part b"
   ]
  },
  {
   "cell_type": "markdown",
   "metadata": {},
   "source": [
    "Question 1"
   ]
  },
  {
   "cell_type": "code",
   "execution_count": 2,
   "metadata": {},
   "outputs": [],
   "source": [
    "df = pd.read_csv('CustomerData.csv')"
   ]
  },
  {
   "cell_type": "code",
   "execution_count": 3,
   "metadata": {},
   "outputs": [
    {
     "data": {
      "text/html": [
       "<div>\n",
       "<style scoped>\n",
       "    .dataframe tbody tr th:only-of-type {\n",
       "        vertical-align: middle;\n",
       "    }\n",
       "\n",
       "    .dataframe tbody tr th {\n",
       "        vertical-align: top;\n",
       "    }\n",
       "\n",
       "    .dataframe thead th {\n",
       "        text-align: right;\n",
       "    }\n",
       "</style>\n",
       "<table border=\"1\" class=\"dataframe\">\n",
       "  <thead>\n",
       "    <tr style=\"text-align: right;\">\n",
       "      <th></th>\n",
       "      <th>customer_id</th>\n",
       "      <th>name</th>\n",
       "      <th>gender</th>\n",
       "      <th>age</th>\n",
       "      <th>annual income (lakhs)</th>\n",
       "      <th>spending score</th>\n",
       "      <th>items purchased (monthly)</th>\n",
       "      <th>country</th>\n",
       "      <th>category</th>\n",
       "      <th>purchase type</th>\n",
       "    </tr>\n",
       "  </thead>\n",
       "  <tbody>\n",
       "    <tr>\n",
       "      <th>0</th>\n",
       "      <td>1</td>\n",
       "      <td>Edith</td>\n",
       "      <td>Female</td>\n",
       "      <td>NaN</td>\n",
       "      <td>40.9</td>\n",
       "      <td>27</td>\n",
       "      <td>62</td>\n",
       "      <td>Iran</td>\n",
       "      <td>Baby</td>\n",
       "      <td>offline</td>\n",
       "    </tr>\n",
       "    <tr>\n",
       "      <th>1</th>\n",
       "      <td>2</td>\n",
       "      <td>Sinclair</td>\n",
       "      <td>Male</td>\n",
       "      <td>53.0</td>\n",
       "      <td>NaN</td>\n",
       "      <td>42</td>\n",
       "      <td>47</td>\n",
       "      <td>China</td>\n",
       "      <td>NaN</td>\n",
       "      <td>online</td>\n",
       "    </tr>\n",
       "    <tr>\n",
       "      <th>2</th>\n",
       "      <td>3</td>\n",
       "      <td>Enoch</td>\n",
       "      <td>Male</td>\n",
       "      <td>22.0</td>\n",
       "      <td>NaN</td>\n",
       "      <td>70</td>\n",
       "      <td>26</td>\n",
       "      <td>China</td>\n",
       "      <td>Computers</td>\n",
       "      <td>offline</td>\n",
       "    </tr>\n",
       "    <tr>\n",
       "      <th>3</th>\n",
       "      <td>4</td>\n",
       "      <td>Lorenzo</td>\n",
       "      <td>Male</td>\n",
       "      <td>9.0</td>\n",
       "      <td>18.5</td>\n",
       "      <td>68</td>\n",
       "      <td>80</td>\n",
       "      <td>Russia</td>\n",
       "      <td>NaN</td>\n",
       "      <td>online</td>\n",
       "    </tr>\n",
       "    <tr>\n",
       "      <th>4</th>\n",
       "      <td>5</td>\n",
       "      <td>Damian</td>\n",
       "      <td>Male</td>\n",
       "      <td>55.0</td>\n",
       "      <td>18.4</td>\n",
       "      <td>69</td>\n",
       "      <td>89</td>\n",
       "      <td>Philippines</td>\n",
       "      <td>Jewelery</td>\n",
       "      <td>offline</td>\n",
       "    </tr>\n",
       "  </tbody>\n",
       "</table>\n",
       "</div>"
      ],
      "text/plain": [
       "   customer_id      name  gender   age  annual income (lakhs)  spending score  \\\n",
       "0            1     Edith  Female   NaN                   40.9              27   \n",
       "1            2  Sinclair    Male  53.0                    NaN              42   \n",
       "2            3     Enoch    Male  22.0                    NaN              70   \n",
       "3            4   Lorenzo    Male   9.0                   18.5              68   \n",
       "4            5    Damian    Male  55.0                   18.4              69   \n",
       "\n",
       "   items purchased (monthly)      country   category purchase type   \n",
       "0                         62         Iran       Baby        offline  \n",
       "1                         47        China        NaN         online  \n",
       "2                         26        China  Computers        offline  \n",
       "3                         80       Russia        NaN         online  \n",
       "4                         89  Philippines   Jewelery        offline  "
      ]
     },
     "execution_count": 3,
     "metadata": {},
     "output_type": "execute_result"
    }
   ],
   "source": [
    "df.head()"
   ]
  },
  {
   "cell_type": "markdown",
   "metadata": {},
   "source": [
    "# Data Preprocessing"
   ]
  },
  {
   "cell_type": "markdown",
   "metadata": {},
   "source": [
    "Handle missing values"
   ]
  },
  {
   "cell_type": "code",
   "execution_count": 4,
   "metadata": {},
   "outputs": [
    {
     "data": {
      "text/plain": [
       "customer_id                   0\n",
       "name                          0\n",
       "gender                       10\n",
       "age                           5\n",
       "annual income (lakhs)         8\n",
       "spending score                0\n",
       "items purchased (monthly)     0\n",
       "country                       0\n",
       "category                     13\n",
       "purchase type                 0\n",
       "dtype: int64"
      ]
     },
     "execution_count": 4,
     "metadata": {},
     "output_type": "execute_result"
    }
   ],
   "source": [
    "df.isnull().sum() "
   ]
  },
  {
   "cell_type": "code",
   "execution_count": 5,
   "metadata": {},
   "outputs": [],
   "source": [
    "df.gender.fillna(df.gender.mode()[0], inplace = True)"
   ]
  },
  {
   "cell_type": "code",
   "execution_count": 6,
   "metadata": {},
   "outputs": [],
   "source": [
    "df.category.fillna(df.category.mode()[0], inplace = True)"
   ]
  },
  {
   "cell_type": "code",
   "execution_count": 7,
   "metadata": {},
   "outputs": [],
   "source": [
    "df.age.fillna(int(df.age.mean()), inplace = True)"
   ]
  },
  {
   "cell_type": "code",
   "execution_count": 8,
   "metadata": {},
   "outputs": [],
   "source": [
    "df['annual income (lakhs)'].fillna(df['annual income (lakhs)'].mean(), inplace = True)"
   ]
  },
  {
   "cell_type": "code",
   "execution_count": 9,
   "metadata": {},
   "outputs": [
    {
     "data": {
      "text/plain": [
       "customer_id                  0\n",
       "name                         0\n",
       "gender                       0\n",
       "age                          0\n",
       "annual income (lakhs)        0\n",
       "spending score               0\n",
       "items purchased (monthly)    0\n",
       "country                      0\n",
       "category                     0\n",
       "purchase type                0\n",
       "dtype: int64"
      ]
     },
     "execution_count": 9,
     "metadata": {},
     "output_type": "execute_result"
    }
   ],
   "source": [
    "df.isnull().sum() "
   ]
  },
  {
   "cell_type": "markdown",
   "metadata": {},
   "source": [
    "## Data Transformation"
   ]
  },
  {
   "cell_type": "markdown",
   "metadata": {},
   "source": [
    "Encode categorical values to numerical values"
   ]
  },
  {
   "cell_type": "code",
   "execution_count": 10,
   "metadata": {},
   "outputs": [],
   "source": [
    "encoder = preprocessing.LabelEncoder()\n",
    "df[['category', 'purchase type ', 'gender']] = df[['category', 'purchase type ', 'gender']].apply(encoder.fit_transform)"
   ]
  },
  {
   "cell_type": "code",
   "execution_count": 11,
   "metadata": {},
   "outputs": [
    {
     "data": {
      "text/html": [
       "<div>\n",
       "<style scoped>\n",
       "    .dataframe tbody tr th:only-of-type {\n",
       "        vertical-align: middle;\n",
       "    }\n",
       "\n",
       "    .dataframe tbody tr th {\n",
       "        vertical-align: top;\n",
       "    }\n",
       "\n",
       "    .dataframe thead th {\n",
       "        text-align: right;\n",
       "    }\n",
       "</style>\n",
       "<table border=\"1\" class=\"dataframe\">\n",
       "  <thead>\n",
       "    <tr style=\"text-align: right;\">\n",
       "      <th></th>\n",
       "      <th>customer_id</th>\n",
       "      <th>name</th>\n",
       "      <th>gender</th>\n",
       "      <th>age</th>\n",
       "      <th>annual income (lakhs)</th>\n",
       "      <th>spending score</th>\n",
       "      <th>items purchased (monthly)</th>\n",
       "      <th>country</th>\n",
       "      <th>category</th>\n",
       "      <th>purchase type</th>\n",
       "    </tr>\n",
       "  </thead>\n",
       "  <tbody>\n",
       "    <tr>\n",
       "      <th>0</th>\n",
       "      <td>1</td>\n",
       "      <td>Edith</td>\n",
       "      <td>0</td>\n",
       "      <td>29.0</td>\n",
       "      <td>40.900000</td>\n",
       "      <td>27</td>\n",
       "      <td>62</td>\n",
       "      <td>Iran</td>\n",
       "      <td>1</td>\n",
       "      <td>0</td>\n",
       "    </tr>\n",
       "    <tr>\n",
       "      <th>1</th>\n",
       "      <td>2</td>\n",
       "      <td>Sinclair</td>\n",
       "      <td>1</td>\n",
       "      <td>53.0</td>\n",
       "      <td>35.578846</td>\n",
       "      <td>42</td>\n",
       "      <td>47</td>\n",
       "      <td>China</td>\n",
       "      <td>2</td>\n",
       "      <td>1</td>\n",
       "    </tr>\n",
       "    <tr>\n",
       "      <th>2</th>\n",
       "      <td>3</td>\n",
       "      <td>Enoch</td>\n",
       "      <td>1</td>\n",
       "      <td>22.0</td>\n",
       "      <td>35.578846</td>\n",
       "      <td>70</td>\n",
       "      <td>26</td>\n",
       "      <td>China</td>\n",
       "      <td>5</td>\n",
       "      <td>0</td>\n",
       "    </tr>\n",
       "    <tr>\n",
       "      <th>3</th>\n",
       "      <td>4</td>\n",
       "      <td>Lorenzo</td>\n",
       "      <td>1</td>\n",
       "      <td>9.0</td>\n",
       "      <td>18.500000</td>\n",
       "      <td>68</td>\n",
       "      <td>80</td>\n",
       "      <td>Russia</td>\n",
       "      <td>2</td>\n",
       "      <td>1</td>\n",
       "    </tr>\n",
       "    <tr>\n",
       "      <th>4</th>\n",
       "      <td>5</td>\n",
       "      <td>Damian</td>\n",
       "      <td>1</td>\n",
       "      <td>55.0</td>\n",
       "      <td>18.400000</td>\n",
       "      <td>69</td>\n",
       "      <td>89</td>\n",
       "      <td>Philippines</td>\n",
       "      <td>12</td>\n",
       "      <td>0</td>\n",
       "    </tr>\n",
       "  </tbody>\n",
       "</table>\n",
       "</div>"
      ],
      "text/plain": [
       "   customer_id      name  gender   age  annual income (lakhs)  spending score  \\\n",
       "0            1     Edith       0  29.0              40.900000              27   \n",
       "1            2  Sinclair       1  53.0              35.578846              42   \n",
       "2            3     Enoch       1  22.0              35.578846              70   \n",
       "3            4   Lorenzo       1   9.0              18.500000              68   \n",
       "4            5    Damian       1  55.0              18.400000              69   \n",
       "\n",
       "   items purchased (monthly)      country  category  purchase type   \n",
       "0                         62         Iran         1               0  \n",
       "1                         47        China         2               1  \n",
       "2                         26        China         5               0  \n",
       "3                         80       Russia         2               1  \n",
       "4                         89  Philippines        12               0  "
      ]
     },
     "execution_count": 11,
     "metadata": {},
     "output_type": "execute_result"
    }
   ],
   "source": [
    "df.head()"
   ]
  },
  {
   "cell_type": "markdown",
   "metadata": {},
   "source": [
    "Binning ages into child, teenager, adult, middle aged, old aged"
   ]
  },
  {
   "cell_type": "code",
   "execution_count": 12,
   "metadata": {},
   "outputs": [],
   "source": [
    "df['age group'] = pd.cut(x = df['age'], bins = [0, 12, 19, 30, 50, 100], labels = [\"child\", \"teenager\", \"adult\", \"middle aged\", \"old aged\"], include_lowest=True)"
   ]
  },
  {
   "cell_type": "code",
   "execution_count": 13,
   "metadata": {},
   "outputs": [
    {
     "data": {
      "text/html": [
       "<div>\n",
       "<style scoped>\n",
       "    .dataframe tbody tr th:only-of-type {\n",
       "        vertical-align: middle;\n",
       "    }\n",
       "\n",
       "    .dataframe tbody tr th {\n",
       "        vertical-align: top;\n",
       "    }\n",
       "\n",
       "    .dataframe thead th {\n",
       "        text-align: right;\n",
       "    }\n",
       "</style>\n",
       "<table border=\"1\" class=\"dataframe\">\n",
       "  <thead>\n",
       "    <tr style=\"text-align: right;\">\n",
       "      <th></th>\n",
       "      <th>customer_id</th>\n",
       "      <th>name</th>\n",
       "      <th>gender</th>\n",
       "      <th>age</th>\n",
       "      <th>annual income (lakhs)</th>\n",
       "      <th>spending score</th>\n",
       "      <th>items purchased (monthly)</th>\n",
       "      <th>country</th>\n",
       "      <th>category</th>\n",
       "      <th>purchase type</th>\n",
       "      <th>age group</th>\n",
       "    </tr>\n",
       "  </thead>\n",
       "  <tbody>\n",
       "    <tr>\n",
       "      <th>0</th>\n",
       "      <td>1</td>\n",
       "      <td>Edith</td>\n",
       "      <td>0</td>\n",
       "      <td>29.0</td>\n",
       "      <td>40.900000</td>\n",
       "      <td>27</td>\n",
       "      <td>62</td>\n",
       "      <td>Iran</td>\n",
       "      <td>1</td>\n",
       "      <td>0</td>\n",
       "      <td>adult</td>\n",
       "    </tr>\n",
       "    <tr>\n",
       "      <th>1</th>\n",
       "      <td>2</td>\n",
       "      <td>Sinclair</td>\n",
       "      <td>1</td>\n",
       "      <td>53.0</td>\n",
       "      <td>35.578846</td>\n",
       "      <td>42</td>\n",
       "      <td>47</td>\n",
       "      <td>China</td>\n",
       "      <td>2</td>\n",
       "      <td>1</td>\n",
       "      <td>old aged</td>\n",
       "    </tr>\n",
       "    <tr>\n",
       "      <th>2</th>\n",
       "      <td>3</td>\n",
       "      <td>Enoch</td>\n",
       "      <td>1</td>\n",
       "      <td>22.0</td>\n",
       "      <td>35.578846</td>\n",
       "      <td>70</td>\n",
       "      <td>26</td>\n",
       "      <td>China</td>\n",
       "      <td>5</td>\n",
       "      <td>0</td>\n",
       "      <td>adult</td>\n",
       "    </tr>\n",
       "    <tr>\n",
       "      <th>3</th>\n",
       "      <td>4</td>\n",
       "      <td>Lorenzo</td>\n",
       "      <td>1</td>\n",
       "      <td>9.0</td>\n",
       "      <td>18.500000</td>\n",
       "      <td>68</td>\n",
       "      <td>80</td>\n",
       "      <td>Russia</td>\n",
       "      <td>2</td>\n",
       "      <td>1</td>\n",
       "      <td>child</td>\n",
       "    </tr>\n",
       "    <tr>\n",
       "      <th>4</th>\n",
       "      <td>5</td>\n",
       "      <td>Damian</td>\n",
       "      <td>1</td>\n",
       "      <td>55.0</td>\n",
       "      <td>18.400000</td>\n",
       "      <td>69</td>\n",
       "      <td>89</td>\n",
       "      <td>Philippines</td>\n",
       "      <td>12</td>\n",
       "      <td>0</td>\n",
       "      <td>old aged</td>\n",
       "    </tr>\n",
       "  </tbody>\n",
       "</table>\n",
       "</div>"
      ],
      "text/plain": [
       "   customer_id      name  gender   age  annual income (lakhs)  spending score  \\\n",
       "0            1     Edith       0  29.0              40.900000              27   \n",
       "1            2  Sinclair       1  53.0              35.578846              42   \n",
       "2            3     Enoch       1  22.0              35.578846              70   \n",
       "3            4   Lorenzo       1   9.0              18.500000              68   \n",
       "4            5    Damian       1  55.0              18.400000              69   \n",
       "\n",
       "   items purchased (monthly)      country  category  purchase type  age group  \n",
       "0                         62         Iran         1               0     adult  \n",
       "1                         47        China         2               1  old aged  \n",
       "2                         26        China         5               0     adult  \n",
       "3                         80       Russia         2               1     child  \n",
       "4                         89  Philippines        12               0  old aged  "
      ]
     },
     "execution_count": 13,
     "metadata": {},
     "output_type": "execute_result"
    }
   ],
   "source": [
    "df.head()"
   ]
  },
  {
   "cell_type": "markdown",
   "metadata": {},
   "source": [
    "Applying MinMax scaler on spending scores (reduces values between 0-1)"
   ]
  },
  {
   "cell_type": "code",
   "execution_count": 14,
   "metadata": {},
   "outputs": [],
   "source": [
    "scaler = MinMaxScaler()"
   ]
  },
  {
   "cell_type": "code",
   "execution_count": 15,
   "metadata": {},
   "outputs": [
    {
     "name": "stderr",
     "output_type": "stream",
     "text": [
      "C:\\ProgramData\\Anaconda3\\lib\\site-packages\\sklearn\\preprocessing\\data.py:323: DataConversionWarning: Data with input dtype int64, float64 were all converted to float64 by MinMaxScaler.\n",
      "  return self.partial_fit(X, y)\n"
     ]
    }
   ],
   "source": [
    "df[['spending score', 'items purchased (monthly)', 'annual income (lakhs)']] = scaler.fit_transform(df[['spending score', 'items purchased (monthly)', 'annual income (lakhs)']])"
   ]
  },
  {
   "cell_type": "code",
   "execution_count": 16,
   "metadata": {},
   "outputs": [
    {
     "data": {
      "text/html": [
       "<div>\n",
       "<style scoped>\n",
       "    .dataframe tbody tr th:only-of-type {\n",
       "        vertical-align: middle;\n",
       "    }\n",
       "\n",
       "    .dataframe tbody tr th {\n",
       "        vertical-align: top;\n",
       "    }\n",
       "\n",
       "    .dataframe thead th {\n",
       "        text-align: right;\n",
       "    }\n",
       "</style>\n",
       "<table border=\"1\" class=\"dataframe\">\n",
       "  <thead>\n",
       "    <tr style=\"text-align: right;\">\n",
       "      <th></th>\n",
       "      <th>customer_id</th>\n",
       "      <th>name</th>\n",
       "      <th>gender</th>\n",
       "      <th>age</th>\n",
       "      <th>annual income (lakhs)</th>\n",
       "      <th>spending score</th>\n",
       "      <th>items purchased (monthly)</th>\n",
       "      <th>country</th>\n",
       "      <th>category</th>\n",
       "      <th>purchase type</th>\n",
       "      <th>age group</th>\n",
       "    </tr>\n",
       "  </thead>\n",
       "  <tbody>\n",
       "    <tr>\n",
       "      <th>0</th>\n",
       "      <td>1</td>\n",
       "      <td>Edith</td>\n",
       "      <td>0</td>\n",
       "      <td>29.0</td>\n",
       "      <td>0.608607</td>\n",
       "      <td>0.255102</td>\n",
       "      <td>0.616162</td>\n",
       "      <td>Iran</td>\n",
       "      <td>1</td>\n",
       "      <td>0</td>\n",
       "      <td>adult</td>\n",
       "    </tr>\n",
       "    <tr>\n",
       "      <th>1</th>\n",
       "      <td>2</td>\n",
       "      <td>Sinclair</td>\n",
       "      <td>1</td>\n",
       "      <td>53.0</td>\n",
       "      <td>0.499567</td>\n",
       "      <td>0.408163</td>\n",
       "      <td>0.464646</td>\n",
       "      <td>China</td>\n",
       "      <td>2</td>\n",
       "      <td>1</td>\n",
       "      <td>old aged</td>\n",
       "    </tr>\n",
       "    <tr>\n",
       "      <th>2</th>\n",
       "      <td>3</td>\n",
       "      <td>Enoch</td>\n",
       "      <td>1</td>\n",
       "      <td>22.0</td>\n",
       "      <td>0.499567</td>\n",
       "      <td>0.693878</td>\n",
       "      <td>0.252525</td>\n",
       "      <td>China</td>\n",
       "      <td>5</td>\n",
       "      <td>0</td>\n",
       "      <td>adult</td>\n",
       "    </tr>\n",
       "    <tr>\n",
       "      <th>3</th>\n",
       "      <td>4</td>\n",
       "      <td>Lorenzo</td>\n",
       "      <td>1</td>\n",
       "      <td>9.0</td>\n",
       "      <td>0.149590</td>\n",
       "      <td>0.673469</td>\n",
       "      <td>0.797980</td>\n",
       "      <td>Russia</td>\n",
       "      <td>2</td>\n",
       "      <td>1</td>\n",
       "      <td>child</td>\n",
       "    </tr>\n",
       "    <tr>\n",
       "      <th>4</th>\n",
       "      <td>5</td>\n",
       "      <td>Damian</td>\n",
       "      <td>1</td>\n",
       "      <td>55.0</td>\n",
       "      <td>0.147541</td>\n",
       "      <td>0.683673</td>\n",
       "      <td>0.888889</td>\n",
       "      <td>Philippines</td>\n",
       "      <td>12</td>\n",
       "      <td>0</td>\n",
       "      <td>old aged</td>\n",
       "    </tr>\n",
       "  </tbody>\n",
       "</table>\n",
       "</div>"
      ],
      "text/plain": [
       "   customer_id      name  gender   age  annual income (lakhs)  spending score  \\\n",
       "0            1     Edith       0  29.0               0.608607        0.255102   \n",
       "1            2  Sinclair       1  53.0               0.499567        0.408163   \n",
       "2            3     Enoch       1  22.0               0.499567        0.693878   \n",
       "3            4   Lorenzo       1   9.0               0.149590        0.673469   \n",
       "4            5    Damian       1  55.0               0.147541        0.683673   \n",
       "\n",
       "   items purchased (monthly)      country  category  purchase type  age group  \n",
       "0                   0.616162         Iran         1               0     adult  \n",
       "1                   0.464646        China         2               1  old aged  \n",
       "2                   0.252525        China         5               0     adult  \n",
       "3                   0.797980       Russia         2               1     child  \n",
       "4                   0.888889  Philippines        12               0  old aged  "
      ]
     },
     "execution_count": 16,
     "metadata": {},
     "output_type": "execute_result"
    }
   ],
   "source": [
    "df.head()"
   ]
  },
  {
   "cell_type": "markdown",
   "metadata": {},
   "source": [
    "Question 2"
   ]
  },
  {
   "cell_type": "code",
   "execution_count": 17,
   "metadata": {},
   "outputs": [
    {
     "data": {
      "text/plain": [
       "<matplotlib.axes._subplots.AxesSubplot at 0x21bc6ead320>"
      ]
     },
     "execution_count": 17,
     "metadata": {},
     "output_type": "execute_result"
    },
    {
     "data": {
      "image/png": "[encoded data removed]",
      "text/plain": [
       "<Figure size 432x288 with 1 Axes>"
      ]
     },
     "metadata": {
      "needs_background": "light"
     },
     "output_type": "display_data"
    }
   ],
   "source": [
    "sns.histplot(df[\"age\"])"
   ]
  },
  {
   "cell_type": "code",
   "execution_count": 18,
   "metadata": {},
   "outputs": [
    {
     "data": {
      "text/plain": [
       "<matplotlib.axes._subplots.AxesSubplot at 0x21bc71f27b8>"
      ]
     },
     "execution_count": 18,
     "metadata": {},
     "output_type": "execute_result"
    },
    {
     "data": {
      "image/png": "[encoded data removed]",
      "text/plain": [
       "<Figure size 432x288 with 1 Axes>"
      ]
     },
     "metadata": {
      "needs_background": "light"
     },
     "output_type": "display_data"
    }
   ],
   "source": [
    "sns.boxplot(x = df['age'])"
   ]
  },
  {
   "cell_type": "markdown",
   "metadata": {},
   "source": [
    "Removing outliers in age as person with age < 17 does not have a stable earning"
   ]
  },
  {
   "cell_type": "code",
   "execution_count": 19,
   "metadata": {},
   "outputs": [],
   "source": [
    "df = df[df.age > 17]"
   ]
  },
  {
   "cell_type": "code",
   "execution_count": 20,
   "metadata": {},
   "outputs": [
    {
     "data": {
      "text/plain": [
       "<matplotlib.axes._subplots.AxesSubplot at 0x21bc73febe0>"
      ]
     },
     "execution_count": 20,
     "metadata": {},
     "output_type": "execute_result"
    },
    {
     "data": {
      "image/png": "[encoded data removed]",
      "text/plain": [
       "<Figure size 432x288 with 1 Axes>"
      ]
     },
     "metadata": {
      "needs_background": "light"
     },
     "output_type": "display_data"
    }
   ],
   "source": [
    "sns.histplot(data = df[\"age\"])"
   ]
  },
  {
   "cell_type": "code",
   "execution_count": 21,
   "metadata": {},
   "outputs": [
    {
     "data": {
      "text/plain": [
       "<matplotlib.axes._subplots.AxesSubplot at 0x21bc7471ac8>"
      ]
     },
     "execution_count": 21,
     "metadata": {},
     "output_type": "execute_result"
    },
    {
     "data": {
      "image/png": "[encoded data removed]",
      "text/plain": [
       "<Figure size 432x288 with 1 Axes>"
      ]
     },
     "metadata": {
      "needs_background": "light"
     },
     "output_type": "display_data"
    }
   ],
   "source": [
    "sns.scatterplot(data = df, x = df.age, y = df['annual income (lakhs)'])"
   ]
  },
  {
   "cell_type": "markdown",
   "metadata": {},
   "source": [
    "Question 3"
   ]
  },
  {
   "cell_type": "code",
   "execution_count": 22,
   "metadata": {},
   "outputs": [],
   "source": [
    "df1 = pd.read_csv('association_analysis.csv')"
   ]
  },
  {
   "cell_type": "code",
   "execution_count": 23,
   "metadata": {},
   "outputs": [
    {
     "data": {
      "text/html": [
       "<div>\n",
       "<style scoped>\n",
       "    .dataframe tbody tr th:only-of-type {\n",
       "        vertical-align: middle;\n",
       "    }\n",
       "\n",
       "    .dataframe tbody tr th {\n",
       "        vertical-align: top;\n",
       "    }\n",
       "\n",
       "    .dataframe thead th {\n",
       "        text-align: right;\n",
       "    }\n",
       "</style>\n",
       "<table border=\"1\" class=\"dataframe\">\n",
       "  <thead>\n",
       "    <tr style=\"text-align: right;\">\n",
       "      <th></th>\n",
       "      <th>tid</th>\n",
       "      <th>onion</th>\n",
       "      <th>tomato</th>\n",
       "      <th>potato</th>\n",
       "      <th>bottleguard</th>\n",
       "      <th>beans</th>\n",
       "    </tr>\n",
       "  </thead>\n",
       "  <tbody>\n",
       "    <tr>\n",
       "      <th>0</th>\n",
       "      <td>1</td>\n",
       "      <td>1</td>\n",
       "      <td>0</td>\n",
       "      <td>1</td>\n",
       "      <td>0</td>\n",
       "      <td>0</td>\n",
       "    </tr>\n",
       "    <tr>\n",
       "      <th>1</th>\n",
       "      <td>2</td>\n",
       "      <td>1</td>\n",
       "      <td>0</td>\n",
       "      <td>0</td>\n",
       "      <td>1</td>\n",
       "      <td>1</td>\n",
       "    </tr>\n",
       "    <tr>\n",
       "      <th>2</th>\n",
       "      <td>3</td>\n",
       "      <td>0</td>\n",
       "      <td>0</td>\n",
       "      <td>1</td>\n",
       "      <td>0</td>\n",
       "      <td>0</td>\n",
       "    </tr>\n",
       "    <tr>\n",
       "      <th>3</th>\n",
       "      <td>4</td>\n",
       "      <td>0</td>\n",
       "      <td>1</td>\n",
       "      <td>1</td>\n",
       "      <td>1</td>\n",
       "      <td>1</td>\n",
       "    </tr>\n",
       "    <tr>\n",
       "      <th>4</th>\n",
       "      <td>5</td>\n",
       "      <td>1</td>\n",
       "      <td>1</td>\n",
       "      <td>1</td>\n",
       "      <td>0</td>\n",
       "      <td>0</td>\n",
       "    </tr>\n",
       "  </tbody>\n",
       "</table>\n",
       "</div>"
      ],
      "text/plain": [
       "   tid  onion  tomato  potato  bottleguard  beans\n",
       "0    1      1       0       1            0      0\n",
       "1    2      1       0       0            1      1\n",
       "2    3      0       0       1            0      0\n",
       "3    4      0       1       1            1      1\n",
       "4    5      1       1       1            0      0"
      ]
     },
     "execution_count": 23,
     "metadata": {},
     "output_type": "execute_result"
    }
   ],
   "source": [
    "df1.head()"
   ]
  },
  {
   "cell_type": "code",
   "execution_count": 24,
   "metadata": {},
   "outputs": [],
   "source": [
    "df1.drop(['tid'], axis = 1, inplace = True)"
   ]
  },
  {
   "cell_type": "code",
   "execution_count": 25,
   "metadata": {},
   "outputs": [
    {
     "name": "stdout",
     "output_type": "stream",
     "text": [
      "Requirement already satisfied: apyori in c:\\programdata\\anaconda3\\lib\\site-packages (1.1.2)\n"
     ]
    }
   ],
   "source": [
    "!pip install apyori"
   ]
  },
  {
   "cell_type": "code",
   "execution_count": 26,
   "metadata": {},
   "outputs": [],
   "source": [
    "from apyori import apriori"
   ]
  },
  {
   "cell_type": "markdown",
   "metadata": {},
   "source": [
    "Converting dataframe to a list of lists containing items"
   ]
  },
  {
   "cell_type": "code",
   "execution_count": 27,
   "metadata": {},
   "outputs": [],
   "source": [
    "records = []\n",
    "for i in range(len(df1)):\n",
    "    record = []\n",
    "    for j in range(len(df1.columns)):\n",
    "        if df1.values[i, j]:\n",
    "            record.append(df1.columns[j])\n",
    "    records.append(record)"
   ]
  },
  {
   "cell_type": "code",
   "execution_count": 28,
   "metadata": {},
   "outputs": [
    {
     "data": {
      "text/plain": [
       "[['onion', 'potato'], ['onion', 'bottleguard', 'beans'], ['potato']]"
      ]
     },
     "execution_count": 28,
     "metadata": {},
     "output_type": "execute_result"
    }
   ],
   "source": [
    "records[:3]"
   ]
  },
  {
   "cell_type": "code",
   "execution_count": 29,
   "metadata": {},
   "outputs": [],
   "source": [
    "min_sup = 0.03\n",
    "min_confidence = 0.7"
   ]
  },
  {
   "cell_type": "markdown",
   "metadata": {},
   "source": [
    "Apriori"
   ]
  },
  {
   "cell_type": "code",
   "execution_count": 30,
   "metadata": {},
   "outputs": [],
   "source": [
    "rules = apriori(records, min_support = min_sup, min_confidence = min_confidence)"
   ]
  },
  {
   "cell_type": "code",
   "execution_count": 31,
   "metadata": {},
   "outputs": [],
   "source": [
    "rules = list(rules)"
   ]
  },
  {
   "cell_type": "code",
   "execution_count": 32,
   "metadata": {},
   "outputs": [
    {
     "data": {
      "text/plain": [
       "RelationRecord(items=frozenset({'beans', 'tomato', 'bottleguard'}), support=0.19607843137254902, ordered_statistics=[OrderedStatistic(items_base=frozenset({'beans', 'bottleguard'}), items_add=frozenset({'tomato'}), confidence=0.7692307692307693, lift=1.3527851458885942), OrderedStatistic(items_base=frozenset({'tomato', 'bottleguard'}), items_add=frozenset({'beans'}), confidence=0.7142857142857142, lift=1.457142857142857)])"
      ]
     },
     "execution_count": 32,
     "metadata": {},
     "output_type": "execute_result"
    }
   ],
   "source": [
    "rules[0]"
   ]
  },
  {
   "cell_type": "code",
   "execution_count": 33,
   "metadata": {},
   "outputs": [
    {
     "name": "stdout",
     "output_type": "stream",
     "text": [
      "Rule :  frozenset({'beans', 'tomato', 'bottleguard'}) Support : 0.19607843137254902 Confidence :  0.7692307692307693\n",
      "Rule :  frozenset({'beans', 'potato', 'tomato'}) Support : 0.1568627450980392 Confidence :  0.7272727272727272\n",
      "Rule :  frozenset({'beans', 'potato', 'tomato', 'bottleguard'}) Support : 0.09803921568627451 Confidence :  0.8333333333333334\n",
      "Rule :  frozenset({'beans', 'potato', 'tomato', 'onion'}) Support : 0.09803921568627451 Confidence :  0.7142857142857142\n",
      "Rule :  frozenset({'potato', 'tomato', 'onion', 'bottleguard'}) Support : 0.09803921568627451 Confidence :  0.7142857142857142\n",
      "Rule :  frozenset({'beans', 'potato', 'onion', 'bottleguard', 'tomato'}) Support : 0.058823529411764705 Confidence :  0.75\n"
     ]
    }
   ],
   "source": [
    "for rule in rules:\n",
    "    print(\"Rule : \",rule[0], \"Support :\", rule[1], \"Confidence : \", rule[2][0][2])"
   ]
  },
  {
   "cell_type": "markdown",
   "metadata": {},
   "source": [
    "Question 4"
   ]
  },
  {
   "cell_type": "markdown",
   "metadata": {},
   "source": [
    "FP Growth"
   ]
  },
  {
   "cell_type": "code",
   "execution_count": 34,
   "metadata": {},
   "outputs": [
    {
     "name": "stdout",
     "output_type": "stream",
     "text": [
      "Requirement already satisfied: pyfpgrowth in c:\\programdata\\anaconda3\\lib\\site-packages (1.0)\n"
     ]
    }
   ],
   "source": [
    "!pip install pyfpgrowth"
   ]
  },
  {
   "cell_type": "code",
   "execution_count": 35,
   "metadata": {},
   "outputs": [],
   "source": [
    "import pyfpgrowth\n",
    "\n",
    "itemsets = pyfpgrowth.find_frequent_patterns(records, 0.03)"
   ]
  },
  {
   "cell_type": "code",
   "execution_count": 36,
   "metadata": {},
   "outputs": [
    {
     "data": {
      "text/plain": [
       "{('beans', 'bottleguard', 'onion'): 6,\n",
       " ('beans', 'bottleguard', 'onion', 'potato'): 4,\n",
       " ('bottleguard', 'onion', 'tomato'): 6,\n",
       " ('bottleguard', 'onion', 'potato', 'tomato'): 5,\n",
       " ('beans', 'bottleguard', 'onion', 'tomato'): 3,\n",
       " ('beans', 'bottleguard', 'onion', 'potato', 'tomato'): 3,\n",
       " ('bottleguard', 'onion', 'potato'): 7,\n",
       " ('beans', 'bottleguard', 'potato'): 6,\n",
       " ('beans', 'bottleguard', 'potato', 'tomato'): 5,\n",
       " ('bottleguard', 'potato', 'tomato'): 8,\n",
       " ('beans', 'bottleguard'): 13,\n",
       " ('beans', 'bottleguard', 'tomato'): 10,\n",
       " ('bottleguard', 'tomato'): 14,\n",
       " ('beans', 'onion', 'potato'): 7,\n",
       " ('beans', 'onion', 'potato', 'tomato'): 5,\n",
       " ('beans', 'potato', 'tomato'): 8,\n",
       " ('beans', 'onion'): 13,\n",
       " ('beans', 'onion', 'tomato'): 7,\n",
       " ('beans', 'tomato'): 16,\n",
       " ('onion',): 26,\n",
       " ('onion', 'tomato'): 15,\n",
       " ('onion', 'potato'): 14,\n",
       " ('onion', 'potato', 'tomato'): 9,\n",
       " ('potato', 'tomato'): 15,\n",
       " ('tomato',): 29}"
      ]
     },
     "execution_count": 36,
     "metadata": {},
     "output_type": "execute_result"
    }
   ],
   "source": [
    "itemsets"
   ]
  },
  {
   "cell_type": "code",
   "execution_count": 37,
   "metadata": {},
   "outputs": [
    {
     "data": {
      "text/plain": [
       "{('bottleguard', 'onion', 'potato'): (('tomato',), 0.7142857142857143),\n",
       " ('bottleguard', 'onion', 'tomato'): (('potato',), 0.8333333333333334),\n",
       " ('beans', 'bottleguard', 'onion', 'potato'): (('tomato',), 0.75),\n",
       " ('beans', 'bottleguard', 'onion', 'tomato'): (('potato',), 1.0),\n",
       " ('beans', 'bottleguard', 'potato'): (('tomato',), 0.8333333333333334),\n",
       " ('beans', 'bottleguard'): (('tomato',), 0.7692307692307693),\n",
       " ('bottleguard', 'tomato'): (('beans',), 0.7142857142857143),\n",
       " ('beans', 'onion', 'potato'): (('tomato',), 0.7142857142857143),\n",
       " ('beans', 'onion', 'tomato'): (('potato',), 0.7142857142857143)}"
      ]
     },
     "execution_count": 37,
     "metadata": {},
     "output_type": "execute_result"
    }
   ],
   "source": [
    "pyfpgrowth.generate_association_rules(itemsets, 0.7)"
   ]
  },
  {
   "cell_type": "markdown",
   "metadata": {},
   "source": [
    "Question 5 (Finding purchase type based on age, gender, income) "
   ]
  },
  {
   "cell_type": "code",
   "execution_count": 38,
   "metadata": {},
   "outputs": [],
   "source": [
    "from sklearn.model_selection import train_test_split"
   ]
  },
  {
   "cell_type": "markdown",
   "metadata": {},
   "source": [
    "70-30 dataset split"
   ]
  },
  {
   "cell_type": "code",
   "execution_count": 39,
   "metadata": {},
   "outputs": [],
   "source": [
    "features = df[['age', 'gender', 'annual income (lakhs)']]\n",
    "target = df['purchase type ']\n",
    "\n",
    "x_train, x_test, y_train, y_test = train_test_split(features, target, random_state = 0, test_size = 0.3)"
   ]
  },
  {
   "cell_type": "code",
   "execution_count": 40,
   "metadata": {},
   "outputs": [
    {
     "data": {
      "text/plain": [
       "0.38461538461538464"
      ]
     },
     "execution_count": 40,
     "metadata": {},
     "output_type": "execute_result"
    }
   ],
   "source": [
    "from sklearn.tree import DecisionTreeClassifier\n",
    "\n",
    "classifierDT = DecisionTreeClassifier()\n",
    "classifierDT.fit(x_train, y_train)\n",
    "predicted_labels = classifierDT.predict(x_test)\n",
    "classifierDT.score(x_test, y_test)"
   ]
  },
  {
   "cell_type": "code",
   "execution_count": 41,
   "metadata": {},
   "outputs": [
    {
     "name": "stdout",
     "output_type": "stream",
     "text": [
      "Confusion Matrix\n",
      "[[3 4]\n",
      " [4 2]]\n",
      "              precision    recall  f1-score   support\n",
      "\n",
      "           0       0.43      0.43      0.43         7\n",
      "           1       0.33      0.33      0.33         6\n",
      "\n",
      "   micro avg       0.38      0.38      0.38        13\n",
      "   macro avg       0.38      0.38      0.38        13\n",
      "weighted avg       0.38      0.38      0.38        13\n",
      "\n",
      "Area under the curve: 0.38095238095238093\n"
     ]
    },
    {
     "data": {
      "text/plain": [
       "[]"
      ]
     },
     "execution_count": 41,
     "metadata": {},
     "output_type": "execute_result"
    },
    {
     "data": {
      "image/png": "[encoded data removed]",
      "text/plain": [
       "<Figure size 432x288 with 1 Axes>"
      ]
     },
     "metadata": {
      "needs_background": "light"
     },
     "output_type": "display_data"
    }
   ],
   "source": [
    "from sklearn import metrics\n",
    "\n",
    "print(\"Confusion Matrix\")\n",
    "print(metrics.confusion_matrix(y_test, predicted_labels))\n",
    "print(metrics.classification_report(y_test, predicted_labels))\n",
    "probability = classifierDT.predict_proba(x_test)[:, 1]\n",
    "print(\"Area under the curve:\", metrics.roc_auc_score(y_test, probability))\n",
    "fpr, tpr, threshold = metrics.roc_curve(y_test, probability)\n",
    "plt.xlabel('fpr')\n",
    "plt.ylabel('tpr')\n",
    "plt.plot(fpr, tpr, color = 'orange')\n",
    "plt.plot([0,1], [0, 1], linestyle='--')\n",
    "plt.plot()"
   ]
  },
  {
   "cell_type": "code",
   "execution_count": 42,
   "metadata": {},
   "outputs": [
    {
     "data": {
      "text/plain": [
       "0.46153846153846156"
      ]
     },
     "execution_count": 42,
     "metadata": {},
     "output_type": "execute_result"
    }
   ],
   "source": [
    "from sklearn.naive_bayes import GaussianNB\n",
    "\n",
    "classifierNB = GaussianNB()\n",
    "classifierNB.fit(x_train, y_train)\n",
    "predicted_labels = classifierNB.predict(x_test)\n",
    "classifierNB.score(x_test, y_test)"
   ]
  },
  {
   "cell_type": "code",
   "execution_count": 43,
   "metadata": {},
   "outputs": [
    {
     "name": "stdout",
     "output_type": "stream",
     "text": [
      "Confusion Matrix\n",
      "[[5 2]\n",
      " [5 1]]\n",
      "              precision    recall  f1-score   support\n",
      "\n",
      "           0       0.50      0.71      0.59         7\n",
      "           1       0.33      0.17      0.22         6\n",
      "\n",
      "   micro avg       0.46      0.46      0.46        13\n",
      "   macro avg       0.42      0.44      0.41        13\n",
      "weighted avg       0.42      0.46      0.42        13\n",
      "\n",
      "Area under the curve: 0.5238095238095238\n"
     ]
    },
    {
     "data": {
      "text/plain": [
       "[]"
      ]
     },
     "execution_count": 43,
     "metadata": {},
     "output_type": "execute_result"
    },
    {
     "data": {
      "image/png": "[encoded data removed]",
      "text/plain": [
       "<Figure size 432x288 with 1 Axes>"
      ]
     },
     "metadata": {
      "needs_background": "light"
     },
     "output_type": "display_data"
    }
   ],
   "source": [
    "print(\"Confusion Matrix\")\n",
    "print(metrics.confusion_matrix(y_test, predicted_labels))\n",
    "print(metrics.classification_report(y_test, predicted_labels))\n",
    "probability = classifierNB.predict_proba(x_test)[:, 1]\n",
    "print(\"Area under the curve:\", metrics.roc_auc_score(y_test, probability))\n",
    "fpr, tpr, threshold = metrics.roc_curve(y_test, probability)\n",
    "plt.xlabel('fpr')\n",
    "plt.ylabel('tpr')\n",
    "plt.plot(fpr, tpr, color = 'orange')\n",
    "plt.plot([0,1], [0, 1], linestyle='--')\n",
    "plt.plot()"
   ]
  },
  {
   "cell_type": "markdown",
   "metadata": {},
   "source": [
    "Question 6 "
   ]
  },
  {
   "cell_type": "markdown",
   "metadata": {},
   "source": [
    "Bagging"
   ]
  },
  {
   "cell_type": "code",
   "execution_count": 44,
   "metadata": {},
   "outputs": [
    {
     "data": {
      "text/plain": [
       "0.38461538461538464"
      ]
     },
     "execution_count": 44,
     "metadata": {},
     "output_type": "execute_result"
    }
   ],
   "source": [
    "from sklearn.ensemble import BaggingClassifier\n",
    "\n",
    "bag = BaggingClassifier(random_state = 0)\n",
    "bag.fit(x_train, y_train)\n",
    "predicted = bag.predict(x_test)\n",
    "probability = bag.predict_proba(x_test)[:, 1]\n",
    "bag.score(x_test, y_test)"
   ]
  },
  {
   "cell_type": "code",
   "execution_count": 45,
   "metadata": {},
   "outputs": [
    {
     "name": "stdout",
     "output_type": "stream",
     "text": [
      "              precision    recall  f1-score   support\n",
      "\n",
      "           0       0.43      0.43      0.43         7\n",
      "           1       0.33      0.33      0.33         6\n",
      "\n",
      "   micro avg       0.38      0.38      0.38        13\n",
      "   macro avg       0.38      0.38      0.38        13\n",
      "weighted avg       0.38      0.38      0.38        13\n",
      "\n",
      "\n",
      "Confusion matrix :\n",
      " [[3 4]\n",
      " [4 2]]\n",
      "\n",
      "Area under the curve:  0.38095238095238093\n"
     ]
    },
    {
     "data": {
      "text/plain": [
       "Text(0, 0.5, 'tpr')"
      ]
     },
     "execution_count": 45,
     "metadata": {},
     "output_type": "execute_result"
    },
    {
     "data": {
      "image/png": "[encoded data removed]",
      "text/plain": [
       "<Figure size 432x288 with 1 Axes>"
      ]
     },
     "metadata": {
      "needs_background": "light"
     },
     "output_type": "display_data"
    }
   ],
   "source": [
    "print(metrics.classification_report(y_test, predicted))\n",
    "print(\"\\nConfusion matrix :\\n\", metrics.confusion_matrix(y_test, predicted))\n",
    "print(\"\\nArea under the curve: \", metrics.roc_auc_score(y_test, predicted))\n",
    "fpr, tpr, thresholds = metrics.roc_curve(y_test, probability)\n",
    "plt.plot(fpr, tpr, color = 'orange')\n",
    "plt.plot([0,1], [0,1], linestyle = '--')\n",
    "plt.xlabel('fpr')\n",
    "plt.ylabel('tpr')"
   ]
  },
  {
   "cell_type": "markdown",
   "metadata": {},
   "source": [
    "Boosting (AdaBoost)"
   ]
  },
  {
   "cell_type": "code",
   "execution_count": 46,
   "metadata": {},
   "outputs": [
    {
     "data": {
      "text/plain": [
       "0.38461538461538464"
      ]
     },
     "execution_count": 46,
     "metadata": {},
     "output_type": "execute_result"
    }
   ],
   "source": [
    "from sklearn.ensemble import AdaBoostClassifier\n",
    "\n",
    "boost = AdaBoostClassifier(random_state = 0)\n",
    "boost.fit(x_train, y_train)\n",
    "probability = boost.predict_proba(x_test)[:, 1]\n",
    "predicted = boost.predict(x_test)\n",
    "boost.score(x_test, y_test)"
   ]
  },
  {
   "cell_type": "code",
   "execution_count": 47,
   "metadata": {},
   "outputs": [
    {
     "name": "stdout",
     "output_type": "stream",
     "text": [
      "              precision    recall  f1-score   support\n",
      "\n",
      "           0       0.44      0.57      0.50         7\n",
      "           1       0.25      0.17      0.20         6\n",
      "\n",
      "   micro avg       0.38      0.38      0.38        13\n",
      "   macro avg       0.35      0.37      0.35        13\n",
      "weighted avg       0.35      0.38      0.36        13\n",
      "\n",
      "Confusion matrix\n",
      " [[4 3]\n",
      " [5 1]]\n",
      "Area under the curve 0.369047619047619\n"
     ]
    },
    {
     "data": {
      "text/plain": [
       "Text(0, 0.5, 'tpr')"
      ]
     },
     "execution_count": 47,
     "metadata": {},
     "output_type": "execute_result"
    },
    {
     "data": {
      "image/png": "[encoded data removed]",
      "text/plain": [
       "<Figure size 432x288 with 1 Axes>"
      ]
     },
     "metadata": {
      "needs_background": "light"
     },
     "output_type": "display_data"
    }
   ],
   "source": [
    "print(metrics.classification_report(y_test, predicted))\n",
    "print(\"Confusion matrix\\n\", metrics.confusion_matrix(y_test, predicted))\n",
    "print(\"Area under the curve\", metrics.roc_auc_score(y_test, predicted))\n",
    "fpr, tpr, thresholds = metrics.roc_curve(y_test, probability)\n",
    "plt.plot(fpr, tpr, color = 'orange')\n",
    "plt.plot([0,1], [0,1], linestyle = '--')\n",
    "plt.xlabel('fpr')\n",
    "plt.ylabel('tpr')"
   ]
  },
  {
   "cell_type": "markdown",
   "metadata": {},
   "source": [
    "Question 7 (K Means Clustering)"
   ]
  },
  {
   "cell_type": "markdown",
   "metadata": {},
   "source": [
    "Grouping people based on gender, age, category"
   ]
  },
  {
   "cell_type": "code",
   "execution_count": 48,
   "metadata": {},
   "outputs": [
    {
     "name": "stdout",
     "output_type": "stream",
     "text": [
      "Cluster centers\n",
      " [[ 0.5        53.66666667 13.83333333]\n",
      " [ 0.8        23.7         4.7       ]\n",
      " [ 0.75       29.         14.5       ]\n",
      " [ 0.71428571 55.28571429  2.28571429]\n",
      " [ 0.5        39.91666667  2.91666667]]\n"
     ]
    },
    {
     "name": "stderr",
     "output_type": "stream",
     "text": [
      "C:\\ProgramData\\Anaconda3\\lib\\site-packages\\ipykernel_launcher.py:8: SettingWithCopyWarning: \n",
      "A value is trying to be set on a copy of a slice from a DataFrame.\n",
      "Try using .loc[row_indexer,col_indexer] = value instead\n",
      "\n",
      "See the caveats in the documentation: http://pandas.pydata.org/pandas-docs/stable/indexing.html#indexing-view-versus-copy\n",
      "  \n"
     ]
    }
   ],
   "source": [
    "from sklearn.cluster import KMeans\n",
    "\n",
    "dataframe = df[['gender', 'age', 'category']]\n",
    "\n",
    "kmeans = KMeans(n_clusters = 5, random_state = 0)\n",
    "kmeans.fit_predict(dataframe)\n",
    "print(\"Cluster centers\\n\", kmeans.cluster_centers_)\n",
    "dataframe['cluster'] = kmeans.labels_"
   ]
  },
  {
   "cell_type": "code",
   "execution_count": 49,
   "metadata": {},
   "outputs": [
    {
     "data": {
      "text/html": [
       "<div>\n",
       "<style scoped>\n",
       "    .dataframe tbody tr th:only-of-type {\n",
       "        vertical-align: middle;\n",
       "    }\n",
       "\n",
       "    .dataframe tbody tr th {\n",
       "        vertical-align: top;\n",
       "    }\n",
       "\n",
       "    .dataframe thead th {\n",
       "        text-align: right;\n",
       "    }\n",
       "</style>\n",
       "<table border=\"1\" class=\"dataframe\">\n",
       "  <thead>\n",
       "    <tr style=\"text-align: right;\">\n",
       "      <th></th>\n",
       "      <th>gender</th>\n",
       "      <th>age</th>\n",
       "      <th>category</th>\n",
       "      <th>cluster</th>\n",
       "    </tr>\n",
       "  </thead>\n",
       "  <tbody>\n",
       "    <tr>\n",
       "      <th>0</th>\n",
       "      <td>0</td>\n",
       "      <td>29.0</td>\n",
       "      <td>1</td>\n",
       "      <td>1</td>\n",
       "    </tr>\n",
       "    <tr>\n",
       "      <th>1</th>\n",
       "      <td>1</td>\n",
       "      <td>53.0</td>\n",
       "      <td>2</td>\n",
       "      <td>3</td>\n",
       "    </tr>\n",
       "    <tr>\n",
       "      <th>2</th>\n",
       "      <td>1</td>\n",
       "      <td>22.0</td>\n",
       "      <td>5</td>\n",
       "      <td>1</td>\n",
       "    </tr>\n",
       "    <tr>\n",
       "      <th>4</th>\n",
       "      <td>1</td>\n",
       "      <td>55.0</td>\n",
       "      <td>12</td>\n",
       "      <td>0</td>\n",
       "    </tr>\n",
       "    <tr>\n",
       "      <th>5</th>\n",
       "      <td>0</td>\n",
       "      <td>52.0</td>\n",
       "      <td>15</td>\n",
       "      <td>0</td>\n",
       "    </tr>\n",
       "  </tbody>\n",
       "</table>\n",
       "</div>"
      ],
      "text/plain": [
       "   gender   age  category  cluster\n",
       "0       0  29.0         1        1\n",
       "1       1  53.0         2        3\n",
       "2       1  22.0         5        1\n",
       "4       1  55.0        12        0\n",
       "5       0  52.0        15        0"
      ]
     },
     "execution_count": 49,
     "metadata": {},
     "output_type": "execute_result"
    }
   ],
   "source": [
    "dataframe.head()"
   ]
  },
  {
   "cell_type": "code",
   "execution_count": 50,
   "metadata": {},
   "outputs": [
    {
     "data": {
      "text/plain": [
       "<matplotlib.axes._subplots.AxesSubplot at 0x21bc7980470>"
      ]
     },
     "execution_count": 50,
     "metadata": {},
     "output_type": "execute_result"
    },
    {
     "data": {
      "image/png": "[encoded data removed]",
      "text/plain": [
       "<Figure size 432x288 with 1 Axes>"
      ]
     },
     "metadata": {
      "needs_background": "light"
     },
     "output_type": "display_data"
    }
   ],
   "source": [
    "sns.scatterplot(data = dataframe, x = dataframe.cluster, y = dataframe.age)"
   ]
  },
  {
   "cell_type": "code",
   "execution_count": 51,
   "metadata": {},
   "outputs": [
    {
     "data": {
      "text/plain": [
       "<matplotlib.axes._subplots.AxesSubplot at 0x21bc787bc88>"
      ]
     },
     "execution_count": 51,
     "metadata": {},
     "output_type": "execute_result"
    },
    {
     "data": {
      "image/png": "[encoded data removed]",
      "text/plain": [
       "<Figure size 432x288 with 1 Axes>"
      ]
     },
     "metadata": {
      "needs_background": "light"
     },
     "output_type": "display_data"
    }
   ],
   "source": [
    "sns.scatterplot(data = dataframe, x = dataframe.cluster, y = dataframe.gender.replace({0 : \"Male\", 1 : \"Female\"}))"
   ]
  },
  {
   "cell_type": "code",
   "execution_count": 52,
   "metadata": {},
   "outputs": [
    {
     "data": {
      "text/plain": [
       "<matplotlib.axes._subplots.AxesSubplot at 0x21bc7cdd5c0>"
      ]
     },
     "execution_count": 52,
     "metadata": {},
     "output_type": "execute_result"
    },
    {
     "data": {
      "image/png": "[encoded data removed]",
      "text/plain": [
       "<Figure size 432x288 with 1 Axes>"
      ]
     },
     "metadata": {
      "needs_background": "light"
     },
     "output_type": "display_data"
    }
   ],
   "source": [
    "sns.scatterplot(data = dataframe, x = dataframe.cluster, y = dataframe.category)"
   ]
  },
  {
   "cell_type": "markdown",
   "metadata": {},
   "source": [
    "Question 8 "
   ]
  },
  {
   "cell_type": "markdown",
   "metadata": {},
   "source": [
    "Grouping people based on gender, age, category"
   ]
  },
  {
   "cell_type": "markdown",
   "metadata": {},
   "source": [
    "Hierarchical Clustering (Agglomerative clustering)"
   ]
  },
  {
   "cell_type": "code",
   "execution_count": 53,
   "metadata": {},
   "outputs": [
    {
     "data": {
      "text/plain": [
       "array([1, 4, 1, 2, 2, 1, 1, 2, 3, 3, 2, 4, 3, 0, 4, 1, 0, 0, 4, 0, 1, 4,\n",
       "       0, 2, 3, 3, 4, 1, 0, 0, 1, 0, 0, 0, 1, 0, 0, 1, 3, 0, 3, 1, 4],\n",
       "      dtype=int64)"
      ]
     },
     "execution_count": 53,
     "metadata": {},
     "output_type": "execute_result"
    }
   ],
   "source": [
    "from sklearn.cluster import AgglomerativeClustering\n",
    "\n",
    "agg = AgglomerativeClustering(n_clusters = 5, affinity = 'euclidean')\n",
    "agg.fit_predict(dataframe)"
   ]
  },
  {
   "cell_type": "code",
   "execution_count": 54,
   "metadata": {},
   "outputs": [
    {
     "ename": "NameError",
     "evalue": "name 'cluster' is not defined",
     "output_type": "error",
     "traceback": [
      "\u001b[1;31m---------------------------------------------------------------------------\u001b[0m",
      "\u001b[1;31mNameError\u001b[0m                                 Traceback (most recent call last)",
      "\u001b[1;32m<ipython-input-54-2d3c086caa1f>\u001b[0m in \u001b[0;36m<module>\u001b[1;34m\u001b[0m\n\u001b[1;32m----> 1\u001b[1;33m \u001b[0mdataframe\u001b[0m\u001b[1;33m[\u001b[0m\u001b[1;34m'cluster'\u001b[0m\u001b[1;33m]\u001b[0m \u001b[1;33m=\u001b[0m \u001b[0mcluster\u001b[0m\u001b[1;33m.\u001b[0m\u001b[0mlabels_\u001b[0m\u001b[1;33m\u001b[0m\u001b[1;33m\u001b[0m\u001b[0m\n\u001b[0m",
      "\u001b[1;31mNameError\u001b[0m: name 'cluster' is not defined"
     ]
    }
   ],
   "source": [
    "dataframe['cluster'] = cluster.labels_"
   ]
  },
  {
   "cell_type": "code",
   "execution_count": null,
   "metadata": {},
   "outputs": [],
   "source": [
    "dataframe.head()"
   ]
  },
  {
   "cell_type": "code",
   "execution_count": null,
   "metadata": {},
   "outputs": [],
   "source": [
    "sns.scatterplot(data = dataframe, x = dataframe.cluster, y = dataframe.age)"
   ]
  },
  {
   "cell_type": "code",
   "execution_count": null,
   "metadata": {},
   "outputs": [],
   "source": [
    "sns.scatterplot(data = dataframe, x = dataframe.cluster, y = dataframe.gender.replace({0 : \"Male\", 1 : \"Female\"}))"
   ]
  },
  {
   "cell_type": "code",
   "execution_count": null,
   "metadata": {},
   "outputs": [],
   "source": [
    "sns.scatterplot(data = dataframe, x = dataframe.cluster, y = dataframe.category)"
   ]
  }
 ],
 "metadata": {
  "kernelspec": {
   "display_name": "Python 3",
   "language": "python",
   "name": "python3"
  },
  "language_info": {
   "codemirror_mode": {
    "name": "ipython",
    "version": 3
   },
   "file_extension": ".py",
   "mimetype": "text/x-python",
   "name": "python",
   "nbconvert_exporter": "python",
   "pygments_lexer": "ipython3",
   "version": "3.7.1"
  }
 },
 "nbformat": 4,
 "nbformat_minor": 4
}

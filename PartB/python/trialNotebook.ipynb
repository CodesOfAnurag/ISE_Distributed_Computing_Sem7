{
 "cells": [
  {
   "cell_type": "code",
   "execution_count": 1,
   "metadata": {},
   "outputs": [
    {
     "name": "stdout",
     "output_type": "stream",
     "text": [
      "Requirement already satisfied: matplotlib in c:\\programdata\\anaconda3\\lib\\site-packages (3.0.2)\n",
      "Requirement already satisfied: seaborn in c:\\programdata\\anaconda3\\lib\\site-packages (0.11.1)\n",
      "Requirement already satisfied: sklearn in c:\\programdata\\anaconda3\\lib\\site-packages (0.0)\n",
      "Requirement already satisfied: pandas in c:\\programdata\\anaconda3\\lib\\site-packages (0.23.4)\n",
      "Requirement already satisfied: numpy in c:\\programdata\\anaconda3\\lib\\site-packages (1.15.4)\n"
     ]
    },
    {
     "name": "stderr",
     "output_type": "stream",
     "text": [
      "ERROR: Could not find a version that satisfies the requirement apyriori\n",
      "ERROR: No matching distribution found for apyriori\n"
     ]
    }
   ],
   "source": [
    "! pip install matplotlib seaborn sklearn pandas numpy apyriori pyfpgrowth"
   ]
  },
  {
   "cell_type": "code",
   "execution_count": 37,
   "metadata": {},
   "outputs": [],
   "source": [
    "import numpy as np\n",
    "import pandas as pd\n",
    "import matplotlib.pyplot as plt\n",
    "import seaborn as sns\n",
    "%config IPCompleter.greedy = True"
   ]
  },
  {
   "cell_type": "code",
   "execution_count": 3,
   "metadata": {},
   "outputs": [],
   "source": [
    "df = pd.read_csv(\"CustomerData.csv\")\n",
    "df.rename(columns = {'annual income (lakhs)':'income','items purchased (monthly)':'items', 'purchase type ':'type','spending score':'score'},inplace=True)"
   ]
  },
  {
   "cell_type": "code",
   "execution_count": 4,
   "metadata": {},
   "outputs": [],
   "source": [
    "def display(df):\n",
    "    print(df.head(), \"\\n--------------------------------------\")\n",
    "    print(df.tail(), \"\\n--------------------------------------\")\n",
    "    print(df.describe(), \"\\n--------------------------------------\")\n",
    "    df.info()\n",
    "    print(\"\\n--------------------------------------\")\n",
    "    print(df.isna().sum(), \"\\n--------------------------------------\")"
   ]
  },
  {
   "cell_type": "code",
   "execution_count": 5,
   "metadata": {},
   "outputs": [
    {
     "name": "stdout",
     "output_type": "stream",
     "text": [
      "   customer_id      name  gender   age  income  score  items      country  \\\n",
      "0            1     Edith  Female   NaN    40.9     27     62         Iran   \n",
      "1            2  Sinclair    Male  53.0     NaN     42     47        China   \n",
      "2            3     Enoch    Male  22.0     NaN     70     26        China   \n",
      "3            4   Lorenzo    Male   9.0    18.5     68     80       Russia   \n",
      "4            5    Damian    Male  55.0    18.4     69     89  Philippines   \n",
      "\n",
      "    category     type  \n",
      "0       Baby  offline  \n",
      "1        NaN   online  \n",
      "2  Computers  offline  \n",
      "3        NaN   online  \n",
      "4   Jewelery  offline   \n",
      "--------------------------------------\n",
      "    customer_id       name  gender   age  income  score  items  country  \\\n",
      "55           56  Annamarie     NaN  36.0    42.3     54     55   Poland   \n",
      "56           57       Bari  Female  22.0    33.5     36      4  Ukraine   \n",
      "57           58     Hersch    Male   0.0    57.2     77     58    Chile   \n",
      "58           59     Brocky    Male   NaN    17.3     34     34    China   \n",
      "59           60       Erna  Female  56.0    16.0     44     12   France   \n",
      "\n",
      "       category     type  \n",
      "55       Beauty  offline  \n",
      "56       Movies  offline  \n",
      "57  Electronics  offline  \n",
      "58          NaN   online  \n",
      "59       Beauty  offline   \n",
      "--------------------------------------\n",
      "       customer_id        age     income       score       items\n",
      "count    60.000000  55.000000  52.000000   60.000000   60.000000\n",
      "mean     30.500000  29.945455  35.578846   46.016667   51.333333\n",
      "std      17.464249  18.669066  14.654964   26.076479   30.628815\n",
      "min       1.000000   0.000000  11.200000    2.000000    1.000000\n",
      "25%      15.750000  15.000000  22.225000   27.000000   25.750000\n",
      "50%      30.500000  31.000000  35.150000   43.500000   57.000000\n",
      "75%      45.250000  46.000000  50.325000   68.250000   75.250000\n",
      "max      60.000000  59.000000  60.000000  100.000000  100.000000 \n",
      "--------------------------------------\n",
      "<class 'pandas.core.frame.DataFrame'>\n",
      "RangeIndex: 60 entries, 0 to 59\n",
      "Data columns (total 10 columns):\n",
      "customer_id    60 non-null int64\n",
      "name           60 non-null object\n",
      "gender         50 non-null object\n",
      "age            55 non-null float64\n",
      "income         52 non-null float64\n",
      "score          60 non-null int64\n",
      "items          60 non-null int64\n",
      "country        60 non-null object\n",
      "category       47 non-null object\n",
      "type           60 non-null object\n",
      "dtypes: float64(2), int64(3), object(5)\n",
      "memory usage: 4.8+ KB\n",
      "\n",
      "--------------------------------------\n",
      "customer_id     0\n",
      "name            0\n",
      "gender         10\n",
      "age             5\n",
      "income          8\n",
      "score           0\n",
      "items           0\n",
      "country         0\n",
      "category       13\n",
      "type            0\n",
      "dtype: int64 \n",
      "--------------------------------------\n"
     ]
    },
    {
     "name": "stderr",
     "output_type": "stream",
     "text": [
      "C:\\ProgramData\\Anaconda3\\lib\\site-packages\\numpy\\lib\\histograms.py:754: RuntimeWarning: invalid value encountered in greater_equal\n",
      "  keep = (tmp_a >= first_edge)\n",
      "C:\\ProgramData\\Anaconda3\\lib\\site-packages\\numpy\\lib\\histograms.py:755: RuntimeWarning: invalid value encountered in less_equal\n",
      "  keep &= (tmp_a <= last_edge)\n"
     ]
    },
    {
     "data": {
      "image/png": "[encoded data removed]",
      "text/plain": [
       "<Figure size 432x288 with 1 Axes>"
      ]
     },
     "metadata": {
      "needs_background": "light"
     },
     "output_type": "display_data"
    }
   ],
   "source": [
    "display(df)\n",
    "plt.hist(df['age'])\n",
    "plt.show()"
   ]
  },
  {
   "cell_type": "code",
   "execution_count": 6,
   "metadata": {},
   "outputs": [],
   "source": [
    "df.gender.fillna(df.gender.mode()[0], inplace=True)\n",
    "df.age.fillna(df.age.mean(), inplace=True)\n",
    "df.category.fillna(df.category.mode()[0], inplace=True)"
   ]
  },
  {
   "cell_type": "code",
   "execution_count": 7,
   "metadata": {},
   "outputs": [
    {
     "data": {
      "text/plain": [
       "customer_id    0\n",
       "name           0\n",
       "gender         0\n",
       "age            0\n",
       "income         8\n",
       "score          0\n",
       "items          0\n",
       "country        0\n",
       "category       0\n",
       "type           0\n",
       "dtype: int64"
      ]
     },
     "execution_count": 7,
     "metadata": {},
     "output_type": "execute_result"
    }
   ],
   "source": [
    "df.isna().sum()"
   ]
  },
  {
   "cell_type": "code",
   "execution_count": 8,
   "metadata": {},
   "outputs": [
    {
     "data": {
      "text/html": [
       "<div>\n",
       "<style scoped>\n",
       "    .dataframe tbody tr th:only-of-type {\n",
       "        vertical-align: middle;\n",
       "    }\n",
       "\n",
       "    .dataframe tbody tr th {\n",
       "        vertical-align: top;\n",
       "    }\n",
       "\n",
       "    .dataframe thead th {\n",
       "        text-align: right;\n",
       "    }\n",
       "</style>\n",
       "<table border=\"1\" class=\"dataframe\">\n",
       "  <thead>\n",
       "    <tr style=\"text-align: right;\">\n",
       "      <th></th>\n",
       "      <th>customer_id</th>\n",
       "      <th>name</th>\n",
       "      <th>gender</th>\n",
       "      <th>age</th>\n",
       "      <th>income</th>\n",
       "      <th>score</th>\n",
       "      <th>items</th>\n",
       "      <th>country</th>\n",
       "      <th>category</th>\n",
       "      <th>type</th>\n",
       "    </tr>\n",
       "  </thead>\n",
       "  <tbody>\n",
       "    <tr>\n",
       "      <th>0</th>\n",
       "      <td>1</td>\n",
       "      <td>Edith</td>\n",
       "      <td>Female</td>\n",
       "      <td>29.945455</td>\n",
       "      <td>40.9</td>\n",
       "      <td>27</td>\n",
       "      <td>62</td>\n",
       "      <td>Iran</td>\n",
       "      <td>Baby</td>\n",
       "      <td>offline</td>\n",
       "    </tr>\n",
       "    <tr>\n",
       "      <th>1</th>\n",
       "      <td>2</td>\n",
       "      <td>Sinclair</td>\n",
       "      <td>Male</td>\n",
       "      <td>53.000000</td>\n",
       "      <td>NaN</td>\n",
       "      <td>42</td>\n",
       "      <td>47</td>\n",
       "      <td>China</td>\n",
       "      <td>Beauty</td>\n",
       "      <td>online</td>\n",
       "    </tr>\n",
       "    <tr>\n",
       "      <th>2</th>\n",
       "      <td>3</td>\n",
       "      <td>Enoch</td>\n",
       "      <td>Male</td>\n",
       "      <td>22.000000</td>\n",
       "      <td>NaN</td>\n",
       "      <td>70</td>\n",
       "      <td>26</td>\n",
       "      <td>China</td>\n",
       "      <td>Computers</td>\n",
       "      <td>offline</td>\n",
       "    </tr>\n",
       "    <tr>\n",
       "      <th>3</th>\n",
       "      <td>4</td>\n",
       "      <td>Lorenzo</td>\n",
       "      <td>Male</td>\n",
       "      <td>9.000000</td>\n",
       "      <td>18.5</td>\n",
       "      <td>68</td>\n",
       "      <td>80</td>\n",
       "      <td>Russia</td>\n",
       "      <td>Beauty</td>\n",
       "      <td>online</td>\n",
       "    </tr>\n",
       "    <tr>\n",
       "      <th>4</th>\n",
       "      <td>5</td>\n",
       "      <td>Damian</td>\n",
       "      <td>Male</td>\n",
       "      <td>55.000000</td>\n",
       "      <td>18.4</td>\n",
       "      <td>69</td>\n",
       "      <td>89</td>\n",
       "      <td>Philippines</td>\n",
       "      <td>Jewelery</td>\n",
       "      <td>offline</td>\n",
       "    </tr>\n",
       "  </tbody>\n",
       "</table>\n",
       "</div>"
      ],
      "text/plain": [
       "   customer_id      name  gender        age  income  score  items  \\\n",
       "0            1     Edith  Female  29.945455    40.9     27     62   \n",
       "1            2  Sinclair    Male  53.000000     NaN     42     47   \n",
       "2            3     Enoch    Male  22.000000     NaN     70     26   \n",
       "3            4   Lorenzo    Male   9.000000    18.5     68     80   \n",
       "4            5    Damian    Male  55.000000    18.4     69     89   \n",
       "\n",
       "       country   category     type  \n",
       "0         Iran       Baby  offline  \n",
       "1        China     Beauty   online  \n",
       "2        China  Computers  offline  \n",
       "3       Russia     Beauty   online  \n",
       "4  Philippines   Jewelery  offline  "
      ]
     },
     "execution_count": 8,
     "metadata": {},
     "output_type": "execute_result"
    }
   ],
   "source": [
    "df.head()"
   ]
  },
  {
   "cell_type": "code",
   "execution_count": 9,
   "metadata": {},
   "outputs": [
    {
     "data": {
      "text/plain": [
       "{'customer_id': 60,\n",
       " 'name': 60,\n",
       " 'gender': 2,\n",
       " 'age': 42,\n",
       " 'income': 51,\n",
       " 'score': 49,\n",
       " 'items': 47,\n",
       " 'country': 23,\n",
       " 'category': 19,\n",
       " 'type': 2}"
      ]
     },
     "execution_count": 9,
     "metadata": {},
     "output_type": "execute_result"
    }
   ],
   "source": [
    "dict(df.nunique())"
   ]
  },
  {
   "cell_type": "code",
   "execution_count": 10,
   "metadata": {},
   "outputs": [
    {
     "name": "stdout",
     "output_type": "stream",
     "text": [
      "Male      43\n",
      "Female    17\n",
      "Name: gender, dtype: int64\n",
      "offline    31\n",
      "online     29\n",
      "Name: type, dtype: int64\n"
     ]
    }
   ],
   "source": [
    "for i in list(df.columns):\n",
    "    if dict(df.nunique())[i]<10:\n",
    "        print(df[i].value_counts())"
   ]
  },
  {
   "cell_type": "code",
   "execution_count": 11,
   "metadata": {},
   "outputs": [
    {
     "data": {
      "text/plain": [
       "['customer_id',\n",
       " 'name',\n",
       " 'gender',\n",
       " 'age',\n",
       " 'income',\n",
       " 'score',\n",
       " 'items',\n",
       " 'country',\n",
       " 'category',\n",
       " 'type']"
      ]
     },
     "execution_count": 11,
     "metadata": {},
     "output_type": "execute_result"
    }
   ],
   "source": [
    "list(df.columns)"
   ]
  },
  {
   "cell_type": "code",
   "execution_count": 12,
   "metadata": {},
   "outputs": [
    {
     "data": {
      "text/plain": [
       "['customer_id',\n",
       " 'name',\n",
       " 'gender',\n",
       " 'age',\n",
       " 'income',\n",
       " 'score',\n",
       " 'items',\n",
       " 'country',\n",
       " 'category',\n",
       " 'type']"
      ]
     },
     "execution_count": 12,
     "metadata": {},
     "output_type": "execute_result"
    }
   ],
   "source": [
    "\n",
    "list(df.columns)"
   ]
  },
  {
   "cell_type": "code",
   "execution_count": 13,
   "metadata": {},
   "outputs": [
    {
     "data": {
      "text/plain": [
       "(60, 10)"
      ]
     },
     "execution_count": 13,
     "metadata": {},
     "output_type": "execute_result"
    }
   ],
   "source": [
    "from sklearn.preprocessing import LabelEncoder\n",
    "encoder = LabelEncoder()\n",
    "\n",
    "df.age = pd.cut(df.age,bins=[0,10, 20, 60,100], labels=['child', 'teen', 'adult','old'],include_lowest=True)\n",
    "df[['gender', 'category', 'type', 'age']] = df[['gender', 'category', 'type', 'age']].apply( encoder.fit_transform )\n",
    "df.head()\n",
    "df.shape"
   ]
  },
  {
   "cell_type": "code",
   "execution_count": 14,
   "metadata": {},
   "outputs": [],
   "source": [
    "df.dropna(axis=0, inplace=True)"
   ]
  },
  {
   "cell_type": "code",
   "execution_count": 15,
   "metadata": {},
   "outputs": [
    {
     "data": {
      "text/html": [
       "<div>\n",
       "<style scoped>\n",
       "    .dataframe tbody tr th:only-of-type {\n",
       "        vertical-align: middle;\n",
       "    }\n",
       "\n",
       "    .dataframe tbody tr th {\n",
       "        vertical-align: top;\n",
       "    }\n",
       "\n",
       "    .dataframe thead th {\n",
       "        text-align: right;\n",
       "    }\n",
       "</style>\n",
       "<table border=\"1\" class=\"dataframe\">\n",
       "  <thead>\n",
       "    <tr style=\"text-align: right;\">\n",
       "      <th></th>\n",
       "      <th>name</th>\n",
       "      <th>gender</th>\n",
       "      <th>age</th>\n",
       "      <th>income</th>\n",
       "      <th>score</th>\n",
       "      <th>items</th>\n",
       "      <th>country</th>\n",
       "      <th>category</th>\n",
       "      <th>type</th>\n",
       "    </tr>\n",
       "  </thead>\n",
       "  <tbody>\n",
       "    <tr>\n",
       "      <th>0</th>\n",
       "      <td>Edith</td>\n",
       "      <td>0</td>\n",
       "      <td>0</td>\n",
       "      <td>40.9</td>\n",
       "      <td>27</td>\n",
       "      <td>62</td>\n",
       "      <td>Iran</td>\n",
       "      <td>1</td>\n",
       "      <td>0</td>\n",
       "    </tr>\n",
       "    <tr>\n",
       "      <th>3</th>\n",
       "      <td>Lorenzo</td>\n",
       "      <td>1</td>\n",
       "      <td>1</td>\n",
       "      <td>18.5</td>\n",
       "      <td>68</td>\n",
       "      <td>80</td>\n",
       "      <td>Russia</td>\n",
       "      <td>2</td>\n",
       "      <td>1</td>\n",
       "    </tr>\n",
       "    <tr>\n",
       "      <th>4</th>\n",
       "      <td>Damian</td>\n",
       "      <td>1</td>\n",
       "      <td>0</td>\n",
       "      <td>18.4</td>\n",
       "      <td>69</td>\n",
       "      <td>89</td>\n",
       "      <td>Philippines</td>\n",
       "      <td>12</td>\n",
       "      <td>0</td>\n",
       "    </tr>\n",
       "    <tr>\n",
       "      <th>5</th>\n",
       "      <td>Drona</td>\n",
       "      <td>0</td>\n",
       "      <td>0</td>\n",
       "      <td>54.8</td>\n",
       "      <td>35</td>\n",
       "      <td>98</td>\n",
       "      <td>Indonesia</td>\n",
       "      <td>15</td>\n",
       "      <td>0</td>\n",
       "    </tr>\n",
       "    <tr>\n",
       "      <th>6</th>\n",
       "      <td>Sylvester</td>\n",
       "      <td>1</td>\n",
       "      <td>2</td>\n",
       "      <td>21.4</td>\n",
       "      <td>52</td>\n",
       "      <td>1</td>\n",
       "      <td>China</td>\n",
       "      <td>2</td>\n",
       "      <td>1</td>\n",
       "    </tr>\n",
       "  </tbody>\n",
       "</table>\n",
       "</div>"
      ],
      "text/plain": [
       "        name  gender  age  income  score  items      country  category  type\n",
       "0      Edith       0    0    40.9     27     62         Iran         1     0\n",
       "3    Lorenzo       1    1    18.5     68     80       Russia         2     1\n",
       "4     Damian       1    0    18.4     69     89  Philippines        12     0\n",
       "5      Drona       0    0    54.8     35     98    Indonesia        15     0\n",
       "6  Sylvester       1    2    21.4     52      1        China         2     1"
      ]
     },
     "execution_count": 15,
     "metadata": {},
     "output_type": "execute_result"
    }
   ],
   "source": [
    "df.drop(['customer_id'], axis=1, inplace=True)\n",
    "df.head()"
   ]
  },
  {
   "cell_type": "code",
   "execution_count": 16,
   "metadata": {},
   "outputs": [
    {
     "data": {
      "text/plain": [
       "<matplotlib.axes._subplots.AxesSubplot at 0x232c3fd8780>"
      ]
     },
     "execution_count": 16,
     "metadata": {},
     "output_type": "execute_result"
    },
    {
     "data": {
      "image/png": "[encoded data removed]",
      "text/plain": [
       "<Figure size 432x288 with 1 Axes>"
      ]
     },
     "metadata": {},
     "output_type": "display_data"
    }
   ],
   "source": [
    "df['age'].value_counts().plot.pie(label='age', autopct=\"%1.2f%%\")"
   ]
  },
  {
   "cell_type": "code",
   "execution_count": 17,
   "metadata": {},
   "outputs": [
    {
     "data": {
      "text/plain": [
       "<matplotlib.axes._subplots.AxesSubplot at 0x232c47e72e8>"
      ]
     },
     "execution_count": 17,
     "metadata": {},
     "output_type": "execute_result"
    },
    {
     "data": {
      "image/png": "[encoded data removed]",
      "text/plain": [
       "<Figure size 432x288 with 1 Axes>"
      ]
     },
     "metadata": {
      "needs_background": "light"
     },
     "output_type": "display_data"
    }
   ],
   "source": [
    "sns.boxplot(data=df, x=\"items\")"
   ]
  },
  {
   "cell_type": "code",
   "execution_count": 18,
   "metadata": {},
   "outputs": [
    {
     "data": {
      "text/plain": [
       "<matplotlib.axes._subplots.AxesSubplot at 0x232c29270f0>"
      ]
     },
     "execution_count": 18,
     "metadata": {},
     "output_type": "execute_result"
    },
    {
     "data": {
      "image/png": "[encoded data removed]",
      "text/plain": [
       "<Figure size 432x288 with 1 Axes>"
      ]
     },
     "metadata": {
      "needs_background": "light"
     },
     "output_type": "display_data"
    }
   ],
   "source": [
    "sns.scatterplot(data=df, x='income', y='items', hue='category')"
   ]
  },
  {
   "cell_type": "code",
   "execution_count": 19,
   "metadata": {},
   "outputs": [
    {
     "data": {
      "text/plain": [
       "<matplotlib.axes._subplots.AxesSubplot at 0x232c46aa438>"
      ]
     },
     "execution_count": 19,
     "metadata": {},
     "output_type": "execute_result"
    },
    {
     "data": {
      "image/png": "[encoded data removed]",
      "text/plain": [
       "<Figure size 432x288 with 1 Axes>"
      ]
     },
     "metadata": {
      "needs_background": "light"
     },
     "output_type": "display_data"
    }
   ],
   "source": [
    "sns.barplot(data=df, x='age', y='income')"
   ]
  },
  {
   "cell_type": "code",
   "execution_count": 20,
   "metadata": {},
   "outputs": [
    {
     "data": {
      "image/png": "[encoded data removed]",
      "text/plain": [
       "<Figure size 432x288 with 1 Axes>"
      ]
     },
     "metadata": {
      "needs_background": "light"
     },
     "output_type": "display_data"
    }
   ],
   "source": [
    "plt.hist(df['age'], bins=3)\n",
    "plt.show()"
   ]
  },
  {
   "cell_type": "code",
   "execution_count": 21,
   "metadata": {},
   "outputs": [],
   "source": [
    "# q4-5\n",
    "transaction = pd.read_csv(\"association_analysis.csv\")"
   ]
  },
  {
   "cell_type": "code",
   "execution_count": 22,
   "metadata": {},
   "outputs": [
    {
     "data": {
      "text/html": [
       "<div>\n",
       "<style scoped>\n",
       "    .dataframe tbody tr th:only-of-type {\n",
       "        vertical-align: middle;\n",
       "    }\n",
       "\n",
       "    .dataframe tbody tr th {\n",
       "        vertical-align: top;\n",
       "    }\n",
       "\n",
       "    .dataframe thead th {\n",
       "        text-align: right;\n",
       "    }\n",
       "</style>\n",
       "<table border=\"1\" class=\"dataframe\">\n",
       "  <thead>\n",
       "    <tr style=\"text-align: right;\">\n",
       "      <th></th>\n",
       "      <th>tid</th>\n",
       "      <th>onion</th>\n",
       "      <th>tomato</th>\n",
       "      <th>potato</th>\n",
       "      <th>bottleguard</th>\n",
       "      <th>beans</th>\n",
       "    </tr>\n",
       "  </thead>\n",
       "  <tbody>\n",
       "    <tr>\n",
       "      <th>0</th>\n",
       "      <td>1</td>\n",
       "      <td>1</td>\n",
       "      <td>0</td>\n",
       "      <td>1</td>\n",
       "      <td>0</td>\n",
       "      <td>0</td>\n",
       "    </tr>\n",
       "    <tr>\n",
       "      <th>1</th>\n",
       "      <td>2</td>\n",
       "      <td>1</td>\n",
       "      <td>0</td>\n",
       "      <td>0</td>\n",
       "      <td>1</td>\n",
       "      <td>1</td>\n",
       "    </tr>\n",
       "    <tr>\n",
       "      <th>2</th>\n",
       "      <td>3</td>\n",
       "      <td>0</td>\n",
       "      <td>0</td>\n",
       "      <td>1</td>\n",
       "      <td>0</td>\n",
       "      <td>0</td>\n",
       "    </tr>\n",
       "    <tr>\n",
       "      <th>3</th>\n",
       "      <td>4</td>\n",
       "      <td>0</td>\n",
       "      <td>1</td>\n",
       "      <td>1</td>\n",
       "      <td>1</td>\n",
       "      <td>1</td>\n",
       "    </tr>\n",
       "    <tr>\n",
       "      <th>4</th>\n",
       "      <td>5</td>\n",
       "      <td>1</td>\n",
       "      <td>1</td>\n",
       "      <td>1</td>\n",
       "      <td>0</td>\n",
       "      <td>0</td>\n",
       "    </tr>\n",
       "  </tbody>\n",
       "</table>\n",
       "</div>"
      ],
      "text/plain": [
       "   tid  onion  tomato  potato  bottleguard  beans\n",
       "0    1      1       0       1            0      0\n",
       "1    2      1       0       0            1      1\n",
       "2    3      0       0       1            0      0\n",
       "3    4      0       1       1            1      1\n",
       "4    5      1       1       1            0      0"
      ]
     },
     "execution_count": 22,
     "metadata": {},
     "output_type": "execute_result"
    }
   ],
   "source": [
    "transaction.head()"
   ]
  },
  {
   "cell_type": "code",
   "execution_count": 23,
   "metadata": {},
   "outputs": [
    {
     "data": {
      "text/plain": [
       "tid            0\n",
       "onion          0\n",
       "tomato         0\n",
       "potato         0\n",
       "bottleguard    0\n",
       "beans          0\n",
       "dtype: int64"
      ]
     },
     "execution_count": 23,
     "metadata": {},
     "output_type": "execute_result"
    }
   ],
   "source": [
    "transaction.isna().sum()"
   ]
  },
  {
   "cell_type": "code",
   "execution_count": 24,
   "metadata": {},
   "outputs": [
    {
     "data": {
      "text/html": [
       "<div>\n",
       "<style scoped>\n",
       "    .dataframe tbody tr th:only-of-type {\n",
       "        vertical-align: middle;\n",
       "    }\n",
       "\n",
       "    .dataframe tbody tr th {\n",
       "        vertical-align: top;\n",
       "    }\n",
       "\n",
       "    .dataframe thead th {\n",
       "        text-align: right;\n",
       "    }\n",
       "</style>\n",
       "<table border=\"1\" class=\"dataframe\">\n",
       "  <thead>\n",
       "    <tr style=\"text-align: right;\">\n",
       "      <th></th>\n",
       "      <th>onion</th>\n",
       "      <th>tomato</th>\n",
       "      <th>potato</th>\n",
       "      <th>bottleguard</th>\n",
       "      <th>beans</th>\n",
       "    </tr>\n",
       "  </thead>\n",
       "  <tbody>\n",
       "    <tr>\n",
       "      <th>0</th>\n",
       "      <td>1</td>\n",
       "      <td>0</td>\n",
       "      <td>1</td>\n",
       "      <td>0</td>\n",
       "      <td>0</td>\n",
       "    </tr>\n",
       "    <tr>\n",
       "      <th>1</th>\n",
       "      <td>1</td>\n",
       "      <td>0</td>\n",
       "      <td>0</td>\n",
       "      <td>1</td>\n",
       "      <td>1</td>\n",
       "    </tr>\n",
       "    <tr>\n",
       "      <th>2</th>\n",
       "      <td>0</td>\n",
       "      <td>0</td>\n",
       "      <td>1</td>\n",
       "      <td>0</td>\n",
       "      <td>0</td>\n",
       "    </tr>\n",
       "    <tr>\n",
       "      <th>3</th>\n",
       "      <td>0</td>\n",
       "      <td>1</td>\n",
       "      <td>1</td>\n",
       "      <td>1</td>\n",
       "      <td>1</td>\n",
       "    </tr>\n",
       "    <tr>\n",
       "      <th>4</th>\n",
       "      <td>1</td>\n",
       "      <td>1</td>\n",
       "      <td>1</td>\n",
       "      <td>0</td>\n",
       "      <td>0</td>\n",
       "    </tr>\n",
       "  </tbody>\n",
       "</table>\n",
       "</div>"
      ],
      "text/plain": [
       "   onion  tomato  potato  bottleguard  beans\n",
       "0      1       0       1            0      0\n",
       "1      1       0       0            1      1\n",
       "2      0       0       1            0      0\n",
       "3      0       1       1            1      1\n",
       "4      1       1       1            0      0"
      ]
     },
     "execution_count": 24,
     "metadata": {},
     "output_type": "execute_result"
    }
   ],
   "source": [
    "transaction.drop(['tid'], axis=1, inplace=True)\n",
    "transaction.head()"
   ]
  },
  {
   "cell_type": "code",
   "execution_count": 25,
   "metadata": {},
   "outputs": [
    {
     "name": "stdout",
     "output_type": "stream",
     "text": [
      "----------------------------------------------------------------------------------------------------\n",
      "Rule: frozenset({'tomato', 'bottleguard', 'beans'})\n",
      "Support: 0.19607843137254902\n",
      "Confidence: 0.7692307692307693\n",
      "----------------------------------------------------------------------------------------------------\n",
      "Rule: frozenset({'tomato', 'potato', 'beans'})\n",
      "Support: 0.1568627450980392\n",
      "Confidence: 0.7272727272727272\n",
      "----------------------------------------------------------------------------------------------------\n",
      "Rule: frozenset({'tomato', 'bottleguard', 'potato', 'beans'})\n",
      "Support: 0.09803921568627451\n",
      "Confidence: 0.8333333333333334\n",
      "----------------------------------------------------------------------------------------------------\n",
      "Rule: frozenset({'onion', 'tomato', 'potato', 'beans'})\n",
      "Support: 0.09803921568627451\n",
      "Confidence: 0.7142857142857142\n",
      "----------------------------------------------------------------------------------------------------\n",
      "Rule: frozenset({'onion', 'tomato', 'bottleguard', 'potato'})\n",
      "Support: 0.09803921568627451\n",
      "Confidence: 0.7142857142857142\n",
      "----------------------------------------------------------------------------------------------------\n",
      "Rule: frozenset({'potato', 'beans', 'onion', 'tomato', 'bottleguard'})\n",
      "Support: 0.058823529411764705\n",
      "Confidence: 0.75\n",
      "----------------------------------------------------------------------------------------------------\n"
     ]
    }
   ],
   "source": [
    "from apyori import apriori\n",
    "\n",
    "records = list()\n",
    "for i in range(transaction.shape[0]):\n",
    "    record = list()\n",
    "    for j in range(len(transaction.columns)):\n",
    "        if transaction.values[i,j]:\n",
    "            record.append(transaction.columns[j])\n",
    "    records.append(record)\n",
    "\n",
    "rules = list( apriori(records, min_support=0.03, min_confidence=0.7))\n",
    "\n",
    "print('-'*100)\n",
    "for rule in rules:\n",
    "    print(f'Rule: {rule[0]}\\nSupport: {rule[1]}\\nConfidence: {rule[2][0][2]}')\n",
    "    print('-'*100)"
   ]
  },
  {
   "cell_type": "code",
   "execution_count": 26,
   "metadata": {
    "tags": []
   },
   "outputs": [
    {
     "data": {
      "text/plain": [
       "{('bottleguard', 'onion', 'potato'): (('tomato',), 0.7142857142857143),\n",
       " ('bottleguard', 'onion', 'tomato'): (('potato',), 0.8333333333333334),\n",
       " ('beans', 'bottleguard', 'onion', 'potato'): (('tomato',), 0.75),\n",
       " ('beans', 'bottleguard', 'onion', 'tomato'): (('potato',), 1.0),\n",
       " ('beans', 'bottleguard', 'potato'): (('tomato',), 0.8333333333333334),\n",
       " ('beans', 'bottleguard'): (('tomato',), 0.7692307692307693),\n",
       " ('bottleguard', 'tomato'): (('beans',), 0.7142857142857143),\n",
       " ('beans', 'onion', 'potato'): (('tomato',), 0.7142857142857143),\n",
       " ('beans', 'onion', 'tomato'): (('potato',), 0.7142857142857143)}"
      ]
     },
     "execution_count": 26,
     "metadata": {},
     "output_type": "execute_result"
    }
   ],
   "source": [
    "import pyfpgrowth\n",
    "itemsets = pyfpgrowth.find_frequent_patterns(records, 0.03)\n",
    "association = pyfpgrowth.generate_association_rules(itemsets, 0.7)\n",
    "# itemsets\n",
    "association"
   ]
  },
  {
   "cell_type": "code",
   "execution_count": 27,
   "metadata": {},
   "outputs": [],
   "source": [
    "from sklearn.model_selection import train_test_split\n",
    "features = df[['gender', 'income']]\n",
    "target = df['type']\n",
    "x_train, x_test, y_train, y_test = train_test_split(features, target, random_state=0, test_size=0.3)"
   ]
  },
  {
   "cell_type": "code",
   "execution_count": 30,
   "metadata": {},
   "outputs": [
    {
     "data": {
      "text/plain": [
       "0.75"
      ]
     },
     "execution_count": 30,
     "metadata": {},
     "output_type": "execute_result"
    }
   ],
   "source": [
    "from sklearn.tree import DecisionTreeClassifier\n",
    "\n",
    "model = DecisionTreeClassifier()\n",
    "model.fit(x_train, y_train)\n",
    "pred = model.predict(x_test)\n",
    "model.score(x_test, y_test)"
   ]
  },
  {
   "cell_type": "code",
   "execution_count": 31,
   "metadata": {},
   "outputs": [
    {
     "name": "stdout",
     "output_type": "stream",
     "text": [
      "[[4 4]\n",
      " [0 8]]\n",
      "              precision    recall  f1-score   support\n",
      "\n",
      "           0       1.00      0.50      0.67         8\n",
      "           1       0.67      1.00      0.80         8\n",
      "\n",
      "   micro avg       0.75      0.75      0.75        16\n",
      "   macro avg       0.83      0.75      0.73        16\n",
      "weighted avg       0.83      0.75      0.73        16\n",
      "\n"
     ]
    },
    {
     "data": {
      "image/png": "[encoded data removed]",
      "text/plain": [
       "<Figure size 432x288 with 1 Axes>"
      ]
     },
     "metadata": {
      "needs_background": "light"
     },
     "output_type": "display_data"
    }
   ],
   "source": [
    "from sklearn import metrics\n",
    "print(metrics.confusion_matrix(y_test, pred))\n",
    "print(metrics.classification_report(y_test, pred))\n",
    "roc = metrics.roc_curve(y_test, pred)\n",
    "sns.lineplot(x = roc[0], y=roc[1])\n",
    "plt.show()"
   ]
  },
  {
   "cell_type": "code",
   "execution_count": 32,
   "metadata": {},
   "outputs": [
    {
     "name": "stdout",
     "output_type": "stream",
     "text": [
      "0.6875\n",
      "[[4 4]\n",
      " [1 7]]\n",
      "              precision    recall  f1-score   support\n",
      "\n",
      "           0       0.80      0.50      0.62         8\n",
      "           1       0.64      0.88      0.74         8\n",
      "\n",
      "   micro avg       0.69      0.69      0.69        16\n",
      "   macro avg       0.72      0.69      0.68        16\n",
      "weighted avg       0.72      0.69      0.68        16\n",
      "\n"
     ]
    },
    {
     "data": {
      "image/png": "[encoded data removed]",
      "text/plain": [
       "<Figure size 432x288 with 1 Axes>"
      ]
     },
     "metadata": {
      "needs_background": "light"
     },
     "output_type": "display_data"
    }
   ],
   "source": [
    "from sklearn.ensemble import AdaBoostClassifier\n",
    "model = AdaBoostClassifier()\n",
    "model.fit(x_train, y_train)\n",
    "pred = model.predict(x_test)\n",
    "\n",
    "print(model.score(x_test, y_test))\n",
    "print(metrics.confusion_matrix(y_test, pred))\n",
    "print(metrics.classification_report(y_test, pred))\n",
    "\n",
    "roc = metrics.roc_curve(y_test, pred)\n",
    "sns.lineplot(x = roc[0], y = roc[1])\n",
    "plt.show()"
   ]
  },
  {
   "cell_type": "code",
   "execution_count": 33,
   "metadata": {},
   "outputs": [
    {
     "name": "stdout",
     "output_type": "stream",
     "text": [
      "0.625\n",
      "[[4 4]\n",
      " [2 6]]\n",
      "              precision    recall  f1-score   support\n",
      "\n",
      "           0       0.67      0.50      0.57         8\n",
      "           1       0.60      0.75      0.67         8\n",
      "\n",
      "   micro avg       0.62      0.62      0.62        16\n",
      "   macro avg       0.63      0.62      0.62        16\n",
      "weighted avg       0.63      0.62      0.62        16\n",
      "\n"
     ]
    },
    {
     "name": "stderr",
     "output_type": "stream",
     "text": [
      "C:\\ProgramData\\Anaconda3\\lib\\site-packages\\sklearn\\ensemble\\forest.py:246: FutureWarning: The default value of n_estimators will change from 10 in version 0.20 to 100 in 0.22.\n",
      "  \"10 in version 0.20 to 100 in 0.22.\", FutureWarning)\n"
     ]
    },
    {
     "data": {
      "image/png": "[encoded data removed]",
      "text/plain": [
       "<Figure size 432x288 with 1 Axes>"
      ]
     },
     "metadata": {
      "needs_background": "light"
     },
     "output_type": "display_data"
    }
   ],
   "source": [
    "from sklearn.ensemble import RandomForestClassifier\n",
    "model = RandomForestClassifier()\n",
    "model.fit(x_train, y_train)\n",
    "pred = model.predict(x_test)\n",
    "\n",
    "print(model.score(x_test, y_test))\n",
    "print(metrics.confusion_matrix(y_test, pred))\n",
    "print(metrics.classification_report(y_test, pred))\n",
    "\n",
    "roc = metrics.roc_curve(y_test, pred)\n",
    "sns.lineplot(x = roc[0], y = roc[1])\n",
    "plt.show()"
   ]
  },
  {
   "cell_type": "code",
   "execution_count": 34,
   "metadata": {},
   "outputs": [
    {
     "name": "stdout",
     "output_type": "stream",
     "text": [
      "0.625\n",
      "[[4 4]\n",
      " [2 6]]\n",
      "              precision    recall  f1-score   support\n",
      "\n",
      "           0       0.67      0.50      0.57         8\n",
      "           1       0.60      0.75      0.67         8\n",
      "\n",
      "   micro avg       0.62      0.62      0.62        16\n",
      "   macro avg       0.63      0.62      0.62        16\n",
      "weighted avg       0.63      0.62      0.62        16\n",
      "\n"
     ]
    },
    {
     "data": {
      "image/png": "[encoded data removed]",
      "text/plain": [
       "<Figure size 432x288 with 1 Axes>"
      ]
     },
     "metadata": {
      "needs_background": "light"
     },
     "output_type": "display_data"
    }
   ],
   "source": [
    "from sklearn.ensemble import BaggingClassifier\n",
    "model = BaggingClassifier()\n",
    "model.fit(x_train, y_train)\n",
    "pred = model.predict(x_test)\n",
    "\n",
    "print(model.score(x_test, y_test))\n",
    "print(metrics.confusion_matrix(y_test, pred))\n",
    "print(metrics.classification_report(y_test, pred))\n",
    "\n",
    "roc = metrics.roc_curve(y_test, pred)\n",
    "sns.lineplot(x = roc[0], y = roc[1])\n",
    "plt.show()"
   ]
  },
  {
   "cell_type": "code",
   "execution_count": 35,
   "metadata": {},
   "outputs": [
    {
     "name": "stdout",
     "output_type": "stream",
     "text": [
      "-895.9709876543204\n",
      "[[6 2]\n",
      " [7 1]]\n",
      "              precision    recall  f1-score   support\n",
      "\n",
      "           0       0.46      0.75      0.57         8\n",
      "           1       0.33      0.12      0.18         8\n",
      "\n",
      "   micro avg       0.44      0.44      0.44        16\n",
      "   macro avg       0.40      0.44      0.38        16\n",
      "weighted avg       0.40      0.44      0.38        16\n",
      "\n"
     ]
    },
    {
     "data": {
      "image/png": "[encoded data removed]",
      "text/plain": [
       "<Figure size 432x288 with 1 Axes>"
      ]
     },
     "metadata": {
      "needs_background": "light"
     },
     "output_type": "display_data"
    }
   ],
   "source": [
    "# df.dropna(axis=0, inplace=True)\n",
    "from sklearn.cluster import KMeans\n",
    "model = KMeans(n_clusters=2, random_state=0)\n",
    "model.fit(x_train, y_train)\n",
    "\n",
    "pred = model.predict(x_test)\n",
    "\n",
    "print(model.score(x_test, y_test))\n",
    "print(metrics.confusion_matrix(y_test, pred))\n",
    "print(metrics.classification_report(y_test, pred))\n",
    "\n",
    "roc = metrics.roc_curve(y_test, pred)\n",
    "sns.lineplot(x = roc[0], y = roc[1])\n",
    "plt.show()"
   ]
  },
  {
   "cell_type": "code",
   "execution_count": 38,
   "metadata": {},
   "outputs": [
    {
     "data": {
      "image/png": "[encoded data removed]",
      "text/plain": [
       "<Figure size 432x288 with 1 Axes>"
      ]
     },
     "metadata": {
      "needs_background": "light"
     },
     "output_type": "display_data"
    }
   ],
   "source": [
    "from sklearn.cluster import AgglomerativeClustering\n",
    "model = AgglomerativeClustering(n_clusters=5)\n",
    "cluster = model.fit_predict(df[['gender','category','type','score','items','income']])\n",
    "\n",
    "from mpl_toolkits.mplot3d import Axes3D\n",
    "ax = plt.axes(projection='3d')\n",
    "ax.scatter3D(df.score, df.type, df.income, c=cluster,)\n",
    "plt.show()"
   ]
  },
  {
   "cell_type": "code",
   "execution_count": null,
   "metadata": {},
   "outputs": [],
   "source": []
  }
 ],
 "metadata": {
  "kernelspec": {
   "display_name": "Python 3",
   "language": "python",
   "name": "python3"
  },
  "language_info": {
   "codemirror_mode": {
    "name": "ipython",
    "version": 3
   },
   "file_extension": ".py",
   "mimetype": "text/x-python",
   "name": "python",
   "nbconvert_exporter": "python",
   "pygments_lexer": "ipython3",
   "version": "3.7.1"
  }
 },
 "nbformat": 4,
 "nbformat_minor": 2
}
